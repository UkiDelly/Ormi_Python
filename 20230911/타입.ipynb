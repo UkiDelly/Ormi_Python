{
 "cells": [
  {
   "cell_type": "markdown",
   "metadata": {},
   "source": [
    "# None\n",
    "\n",
    "None은 유일한 값을 가지고 있고 사칙연산이 불가능하다.\n"
   ]
  },
  {
   "cell_type": "code",
   "execution_count": 1,
   "metadata": {},
   "outputs": [
    {
     "data": {
      "text/plain": [
       "0"
      ]
     },
     "execution_count": 1,
     "metadata": {},
     "output_type": "execute_result"
    }
   ],
   "source": [
    "x: str | None = input()\n",
    "\n",
    "x.count(\"s\")"
   ]
  },
  {
   "cell_type": "markdown",
   "metadata": {},
   "source": [
    "None을 확인할때는 `==` 말고 `is`를 사용하여 확인하는게 좋다\n",
    "**None는 `is`로 검사한다.**\n"
   ]
  },
  {
   "cell_type": "code",
   "execution_count": null,
   "metadata": {},
   "outputs": [],
   "source": [
    "x = None\n",
    "print(x == None)  # True, 하지만 이 방식은 권장되지 않습니다.\n",
    "print(x is None)  # True, 이 방식을 사용하여 None을 확인하는 것이 좋습니다.\n",
    "\n",
    "# == 는 값을 비교하고 is는 주소값을 비교하기 때문인다."
   ]
  },
  {
   "cell_type": "code",
   "execution_count": 4,
   "metadata": {},
   "outputs": [
    {
     "name": "stdout",
     "output_type": "stream",
     "text": [
      "True\n",
      "False\n"
     ]
    }
   ],
   "source": [
    "# 이유 및 예시\n",
    "class Character:\n",
    "    def __eq__(self, __value: object) -> bool:\n",
    "        return True\n",
    "\n",
    "\n",
    "main_character = Character()\n",
    "\n",
    "print(main_character == None)  # == 는 값을 기준으로 하기 때문에 True\n",
    "print(main_character is None)  # is는 id를 기준으로 확인하기 때문에 False"
   ]
  },
  {
   "cell_type": "markdown",
   "metadata": {},
   "source": [
    "# Method Chaining ( 메소드 체이닝 )\n"
   ]
  },
  {
   "cell_type": "markdown",
   "metadata": {},
   "source": [
    "문자열 메소드 체이닝\n"
   ]
  },
  {
   "cell_type": "code",
   "execution_count": 5,
   "metadata": {},
   "outputs": [
    {
     "name": "stdout",
     "output_type": "stream",
     "text": [
      "hello, python!\n"
     ]
    }
   ],
   "source": [
    "sentence = \"  Hello, World!  \"\n",
    "result = sentence.strip().lower().replace(\"world\", \"python\")\n",
    "print(result)  # \"hello, python!\""
   ]
  },
  {
   "cell_type": "markdown",
   "metadata": {},
   "source": [
    "# 형변환\n"
   ]
  },
  {
   "cell_type": "code",
   "execution_count": 15,
   "metadata": {},
   "outputs": [
    {
     "data": {
      "text/plain": [
       "[10, 20, 30]"
      ]
     },
     "execution_count": 15,
     "metadata": {},
     "output_type": "execute_result"
    }
   ],
   "source": [
    "# 어렵지만 자주 사용하는 문법이니 기억해주세요.\n",
    "list(map(int, [\"10\", \"20\", \"30\"]))\n",
    "# 문자열 리스트의 요소를 모두 int로 변환하여 리스트로 반환\n",
    "\n",
    "x = map(int, [\"10\", \"20\", \"30\"])\n",
    "# for i,v in x.le:\n",
    "#     print()\n",
    "y = list(x)\n",
    "y"
   ]
  },
  {
   "cell_type": "markdown",
   "metadata": {},
   "source": [
    "## bool 형변환\n"
   ]
  },
  {
   "cell_type": "code",
   "execution_count": 16,
   "metadata": {},
   "outputs": [
    {
     "name": "stdout",
     "output_type": "stream",
     "text": [
      "bool('test'): True\n",
      "bool(' '): True\n",
      "bool(''): False\n",
      "bool(100): True\n",
      "bool(1): True\n",
      "bool(0): False\n",
      "bool(-1): True\n",
      "bool(None): False\n",
      "bool([]): False\n",
      "bool(tuple()): False\n",
      "bool({}): False\n",
      "bool(set()): False\n"
     ]
    }
   ],
   "source": [
    "print(\"bool('test'):\", bool(\"test\"))\n",
    "print(\"bool(' '):\", bool(\" \"))\n",
    "print(\"bool(''):\", bool(\"\"))\n",
    "print(\"bool(100):\", bool(100))\n",
    "print(\"bool(1):\", bool(1))\n",
    "print(\"bool(0):\", bool(0))\n",
    "print(\"bool(-1):\", bool(-1))\n",
    "print(\"bool(None):\", bool(None))\n",
    "print(\"bool([]):\", bool([]))  # 주의\n",
    "print(\"bool(tuple()):\", bool(tuple()))  # 주의\n",
    "print(\"bool({}):\", bool({}))  # 주의\n",
    "print(\"bool(set()):\", bool(set()))  # 주의"
   ]
  },
  {
   "cell_type": "markdown",
   "metadata": {},
   "source": [
    "## float 형변환\n"
   ]
  },
  {
   "cell_type": "code",
   "execution_count": 17,
   "metadata": {},
   "outputs": [
    {
     "name": "stdout",
     "output_type": "stream",
     "text": [
      "False\n"
     ]
    }
   ],
   "source": [
    "# 국제 표준에 의한 정의\n",
    "print(float(\"nan\") == float(\"nan\"))"
   ]
  },
  {
   "cell_type": "markdown",
   "metadata": {},
   "source": [
    "## list 형변환\n"
   ]
  },
  {
   "cell_type": "code",
   "execution_count": null,
   "metadata": {},
   "outputs": [],
   "source": []
  },
  {
   "cell_type": "markdown",
   "metadata": {},
   "source": [
    "## 연습 문제\n"
   ]
  },
  {
   "cell_type": "code",
   "execution_count": 28,
   "metadata": {},
   "outputs": [
    {
     "data": {
      "text/plain": [
       "'jpeg'"
      ]
     },
     "execution_count": 28,
     "metadata": {},
     "output_type": "execute_result"
    }
   ],
   "source": [
    "# 항상 확장자만 나오게 해주세요\n",
    "s = \"licat.cat.jpeg\"\n",
    "s.split(\".\")[-1]\n",
    "\n",
    "s[s.rindex('.')+1:]"
   ]
  }
 ],
 "metadata": {
  "kernelspec": {
   "display_name": ".venv",
   "language": "python",
   "name": "python3"
  },
  "language_info": {
   "codemirror_mode": {
    "name": "ipython",
    "version": 3
   },
   "file_extension": ".py",
   "mimetype": "text/x-python",
   "name": "python",
   "nbconvert_exporter": "python",
   "pygments_lexer": "ipython3",
   "version": "3.11.5"
  },
  "orig_nbformat": 4
 },
 "nbformat": 4,
 "nbformat_minor": 2
}
