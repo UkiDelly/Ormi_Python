{
 "cells": [
  {
   "cell_type": "markdown",
   "metadata": {},
   "source": [
    "# 문제 1번\n",
    "\n",
    "```python\n",
    "x = 3\n",
    "y = 5\n",
    "result = (isinstance(x, int) and isinstance(y, int)) # 여기에 논리연산자를 더 붙여 두 수를 더하는 코드를 만들어보세요.\n",
    "```\n"
   ]
  },
  {
   "cell_type": "code",
   "execution_count": 9,
   "metadata": {},
   "outputs": [
    {
     "data": {
      "text/plain": [
       "8"
      ]
     },
     "execution_count": 9,
     "metadata": {},
     "output_type": "execute_result"
    }
   ],
   "source": [
    "x = 3\n",
    "y = 5\n",
    "result = not (isinstance(x, int) and isinstance(y, int)) or x + y\n",
    "result"
   ]
  },
  {
   "cell_type": "markdown",
   "metadata": {},
   "source": [
    "# 문제 2번\n",
    "\n",
    "다음 출력값은 무엇일까요? 왜 그러한가요? <br>\n",
    "\n",
    "```python\n",
    "print('hello' < 'hell o')\n",
    "print([10, 20, 30] < [10, 19, 100])\n",
    "print(10 % 3.3 == 0.1)\n",
    "\n",
    "```\n"
   ]
  },
  {
   "cell_type": "code",
   "execution_count": 6,
   "metadata": {},
   "outputs": [
    {
     "name": "stdout",
     "output_type": "stream",
     "text": [
      "False\n",
      "False\n",
      "False\n",
      "False\n"
     ]
    }
   ],
   "source": [
    "print(\"hello\" < \"hell o\")  # False, 그 이유는 공백의 유니코드가 알파벳보다 앞이라서(?)\n",
    "print([10, 20, 30] < [10, 19, 100])  # False, 2번째 인젝스인 20 < 19는 False 이기 때문에\n",
    "print(10 % 3.3 == 0.1)  # False, 부동소수점의 오류로 인하여"
   ]
  },
  {
   "cell_type": "markdown",
   "metadata": {},
   "source": [
    "# 문제 3번\n",
    "\n",
    "어떤 이메일을 쓰고 있는지 출력하는 코드를 작성해주세요.\n",
    "\n",
    "```python\n",
    "email2 = abc@gmail.com # gmail\n",
    "email3 = abc@naver.com # naver\n",
    "email4 = abc@weniv.co.kr # weniv\n",
    "email5 = li.cat@weniv.co.kr # weniv\n",
    "```\n"
   ]
  },
  {
   "cell_type": "code",
   "execution_count": 11,
   "metadata": {},
   "outputs": [
    {
     "name": "stdout",
     "output_type": "stream",
     "text": [
      "gmail\n",
      "naver\n",
      "weniv\n",
      "weniv\n"
     ]
    }
   ],
   "source": [
    "email2 = \"abc@gmail.com\"  # gmail\n",
    "email3 = \"abc@naver.com\"  # naver\n",
    "email4 = \"abc@weniv.co.kr\"  # weniv\n",
    "email5 = \"li.cat@weniv.co.kr\"  # weniv\n",
    "\n",
    "\n",
    "def getEmail(email: str) -> str:\n",
    "    email = email[email.index(\"@\")+1:]\n",
    "    email = email[:email.index('.')]\n",
    "    return email\n",
    "\n",
    "\n",
    "print(getEmail(email2))\n",
    "print(getEmail(email3))\n",
    "print(getEmail(email4))\n",
    "print(getEmail(email5))"
   ]
  }
 ],
 "metadata": {
  "kernelspec": {
   "display_name": ".venv",
   "language": "python",
   "name": "python3"
  },
  "language_info": {
   "codemirror_mode": {
    "name": "ipython",
    "version": 3
   },
   "file_extension": ".py",
   "mimetype": "text/x-python",
   "name": "python",
   "nbconvert_exporter": "python",
   "pygments_lexer": "ipython3",
   "version": "3.11.5"
  },
  "orig_nbformat": 4
 },
 "nbformat": 4,
 "nbformat_minor": 2
}
