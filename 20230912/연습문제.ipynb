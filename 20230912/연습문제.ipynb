{
 "cells": [
  {
   "cell_type": "markdown",
   "metadata": {},
   "source": [
    "# 연습문제\n"
   ]
  },
  {
   "cell_type": "markdown",
   "metadata": {},
   "source": [
    "## 문제 1\n",
    "\n",
    "다음 함수 is_palindrome를 완성하시오. 이 함수는 하나의 문자열을 인자로 받아, 해당 문자열이 팰린드롬(앞으로 읽으나 뒤로 읽으나 같은 단어나 구)이면 True를, 아니면 False를 반환해야 합니다.\n"
   ]
  },
  {
   "cell_type": "code",
   "execution_count": 8,
   "metadata": {},
   "outputs": [
    {
     "name": "stdout",
     "output_type": "stream",
     "text": [
      "True\n",
      "True\n"
     ]
    }
   ],
   "source": [
    "def is_palindrome(s):\n",
    "    # # 코드를 작성하세요.\n",
    "    # pass\n",
    "    return s[::-1] == s\n",
    "\n",
    "\n",
    "print(is_palindrome(\"level\"))  # 결과: True\n",
    "print(is_palindrome(\"deified\"))  # 결과: False"
   ]
  },
  {
   "cell_type": "markdown",
   "metadata": {},
   "source": [
    "## 문제 2\n",
    "\n",
    "리스트 numbers가 주어졌을 때, 이 리스트 내의 모든 짝수를 제거하는 코드를 작성하시오.\n"
   ]
  },
  {
   "cell_type": "code",
   "execution_count": 7,
   "metadata": {},
   "outputs": [
    {
     "name": "stdout",
     "output_type": "stream",
     "text": [
      "[3, 5, 7, 9]\n"
     ]
    }
   ],
   "source": [
    "numbers = [2, 3, 4, 5, 6, 7, 8, 9, 10]\n",
    "# 여기에 코드를 작성하세요.\n",
    "numbers = list(filter(lambda x: x % 2 == 1, numbers))\n",
    "print(numbers)  # 결과: [3, 5, 7, 9]"
   ]
  },
  {
   "cell_type": "markdown",
   "metadata": {},
   "source": [
    "## 문제 3\n"
   ]
  },
  {
   "cell_type": "code",
   "execution_count": null,
   "metadata": {},
   "outputs": [],
   "source": []
  }
 ],
 "metadata": {
  "kernelspec": {
   "display_name": ".venv",
   "language": "python",
   "name": "python3"
  },
  "language_info": {
   "codemirror_mode": {
    "name": "ipython",
    "version": 3
   },
   "file_extension": ".py",
   "mimetype": "text/x-python",
   "name": "python",
   "nbconvert_exporter": "python",
   "pygments_lexer": "ipython3",
   "version": "3.11.5"
  },
  "orig_nbformat": 4
 },
 "nbformat": 4,
 "nbformat_minor": 2
}
