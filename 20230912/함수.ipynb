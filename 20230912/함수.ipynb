{
 "cells": [
  {
   "cell_type": "markdown",
   "metadata": {},
   "source": [
    "# 함수\n"
   ]
  },
  {
   "cell_type": "code",
   "execution_count": null,
   "metadata": {},
   "outputs": [],
   "source": [
    "# 파선아실\n",
    "# parameter는 선언할때 argument는 살행할때\n",
    "def function(x: int, y: int):\n",
    "    z = x + y\n",
    "    return z\n",
    "\n",
    "\n",
    "print(\"function(5, 7)=\", function(5, 7))"
   ]
  },
  {
   "cell_type": "markdown",
   "metadata": {},
   "source": [
    "## 함수 안에 함수\n"
   ]
  },
  {
   "cell_type": "markdown",
   "metadata": {},
   "source": [
    "### 함수안에 함수\n"
   ]
  },
  {
   "cell_type": "code",
   "execution_count": null,
   "metadata": {},
   "outputs": [],
   "source": [
    "def f():\n",
    "    def ff():\n",
    "        return 100\n",
    "\n",
    "    x = ff()\n",
    "    return x\n",
    "\n",
    "\n",
    "f()"
   ]
  },
  {
   "cell_type": "markdown",
   "metadata": {},
   "source": [
    "### 함수를 argument으로 전달\n"
   ]
  },
  {
   "cell_type": "code",
   "execution_count": null,
   "metadata": {},
   "outputs": [],
   "source": [
    "from typing import Callable\n",
    "\n",
    "\n",
    "def f(a, b) -> int:\n",
    "    return a + b\n",
    "\n",
    "\n",
    "def ff(a: Callable[[int, int], int]):\n",
    "    return a(10, 20)\n",
    "\n",
    "\n",
    "ff(f)"
   ]
  },
  {
   "cell_type": "markdown",
   "metadata": {},
   "source": [
    "### 함수를 return으로 전달\n"
   ]
  },
  {
   "cell_type": "code",
   "execution_count": null,
   "metadata": {},
   "outputs": [],
   "source": []
  },
  {
   "cell_type": "markdown",
   "metadata": {},
   "source": [
    "## argument과 파라미터\n"
   ]
  },
  {
   "cell_type": "code",
   "execution_count": null,
   "metadata": {},
   "outputs": [],
   "source": [
    "def f(a, b, c):\n",
    "    print(a, b, c)\n",
    "\n",
    "\n",
    "# f() # error\n",
    "# f(100, 10) # error\n",
    "f(a=100, b=200, c=300)\n",
    "f(c=300, a=100, b=200)"
   ]
  },
  {
   "cell_type": "code",
   "execution_count": null,
   "metadata": {},
   "outputs": [],
   "source": [
    "# 기본값\n",
    "def f(a=10, b=20, c=30):\n",
    "    print(a, b, c)\n",
    "\n",
    "\n",
    "f()\n",
    "f(100, 10)\n",
    "f(a=100, b=200, c=300)\n",
    "f(c=300, a=100, b=200)\n",
    "\n",
    "# 에러 발생\n",
    "# 기본값이 없는 파람은 앞쪽으로 배치해야한다.\n",
    "def n(a=10,b=20,c):\n",
    "    print(a,b,c)\n",
    "\n",
    "def m(a, b=20, c=20):\n",
    "    print(a, b, c)\n"
   ]
  },
  {
   "cell_type": "code",
   "execution_count": null,
   "metadata": {},
   "outputs": [],
   "source": [
    "def fun(a: int = 0, b: int = 0) -> int:\n",
    "    return (a + b) * (a - b)"
   ]
  },
  {
   "cell_type": "code",
   "execution_count": null,
   "metadata": {},
   "outputs": [],
   "source": [
    "def add_or_sub(a: int = 0, b: int = 0) -> int:\n",
    "    def add(a: int, b: int) -> int:\n",
    "        return a + b\n",
    "\n",
    "    def sub(a: int, b: int) -> int:\n",
    "        return a - b\n",
    "\n",
    "    def mul(a: int, b: int) -> int:\n",
    "        return add(a, b) * sub(a, b)\n",
    "\n",
    "    return mul(a, b)\n",
    "\n",
    "\n",
    "print(add_or_sub(2, 3))"
   ]
  },
  {
   "cell_type": "markdown",
   "metadata": {},
   "source": [
    "### 지역변수, 전역함수\n"
   ]
  },
  {
   "cell_type": "code",
   "execution_count": null,
   "metadata": {},
   "outputs": [],
   "source": [
    "a = 10\n",
    "\n",
    "\n",
    "def f():\n",
    "    a = 100\n",
    "    print(a)\n",
    "\n",
    "    def ff():\n",
    "        a = 1000\n",
    "        print(a)\n",
    "\n",
    "        def fff():\n",
    "            a = 10000\n",
    "            print(a)\n",
    "\n",
    "        fff()\n",
    "\n",
    "    ff()\n",
    "\n",
    "\n",
    "f()\n",
    "print(a)"
   ]
  },
  {
   "cell_type": "code",
   "execution_count": null,
   "metadata": {},
   "outputs": [],
   "source": [
    "# nonlocal 키워드를 사용해서 바로 윗 함수의 변수 a에 접근할수 있다.\n",
    "# 하지만 그냥 argument으로 넘기는걸 권장\n",
    "a = 10\n",
    "\n",
    "\n",
    "def f():\n",
    "    a = 100\n",
    "    print(a)\n",
    "\n",
    "    def ff():\n",
    "        a = 1000\n",
    "        print(a)\n",
    "\n",
    "        def fff():\n",
    "            nonlocal a\n",
    "            print(a)\n",
    "\n",
    "        fff()\n",
    "\n",
    "    ff()\n",
    "\n",
    "\n",
    "f()\n",
    "print(a)"
   ]
  },
  {
   "cell_type": "markdown",
   "metadata": {},
   "source": [
    "## 재귀함수\n"
   ]
  },
  {
   "cell_type": "code",
   "execution_count": null,
   "metadata": {},
   "outputs": [],
   "source": [
    "def factorial(num: int) -> int:\n",
    "    if num <= 1:\n",
    "        return 1\n",
    "    return num * factorial(num - 1)\n",
    "\n",
    "\n",
    "def another_factorial(num: int) -> int:\n",
    "    answer = 0\n",
    "\n",
    "    while num > 1:\n",
    "        answer += num * num - 1\n",
    "        num -= 1\n",
    "    return answer\n",
    "\n",
    "\n",
    "print(factorial(5))\n",
    "print(another_factorial(5))"
   ]
  },
  {
   "cell_type": "code",
   "execution_count": 1,
   "metadata": {},
   "outputs": [
    {
     "name": "stdout",
     "output_type": "stream",
     "text": [
      "olleh\n",
      "olleh\n"
     ]
    }
   ],
   "source": [
    "# print(s[1:] + s[0])\n",
    "# s = s[1:]\n",
    "# print(s)\n",
    "\n",
    "\n",
    "s = \"hello world\"\n",
    "def reverse_str(s: str) -> str:\n",
    "    if len(s) <= 1:\n",
    "        return s\n",
    "    return reverse_str(s[1:]) + s[0]\n",
    "print(reverse_str(\"hello\"))\n",
    "\n",
    "print(\"hello\"[::-1])"
   ]
  },
  {
   "cell_type": "markdown",
   "metadata": {},
   "source": [
    "## 함수 나아가기\n"
   ]
  },
  {
   "cell_type": "code",
   "execution_count": null,
   "metadata": {},
   "outputs": [],
   "source": [
    "\"hello world\".upper().replace(\" \", \"\").lower()"
   ]
  },
  {
   "cell_type": "markdown",
   "metadata": {},
   "source": [
    "### 여러값 반환하기\n"
   ]
  },
  {
   "cell_type": "code",
   "execution_count": null,
   "metadata": {},
   "outputs": [],
   "source": [
    "def f():\n",
    "    a = 10\n",
    "    b = 20\n",
    "    c = 30\n",
    "    return a, b, c\n",
    "\n",
    "\n",
    "f()"
   ]
  },
  {
   "cell_type": "markdown",
   "metadata": {},
   "source": [
    "### 빌트인 함수\n"
   ]
  },
  {
   "cell_type": "code",
   "execution_count": null,
   "metadata": {},
   "outputs": [],
   "source": [
    "name = print\n",
    "name(\"Hello World\")"
   ]
  },
  {
   "cell_type": "code",
   "execution_count": null,
   "metadata": {},
   "outputs": [],
   "source": [
    "# 변수처럼 아래처럼 관리할 수 있음\n",
    "x = 10\n",
    "y = 20\n",
    "l = [x, y]\n",
    "\n",
    "\n",
    "def add(x, y):\n",
    "    return x + y\n",
    "\n",
    "\n",
    "def sub(x, y):\n",
    "    return x - y\n",
    "\n",
    "\n",
    "# add, sub를 리스트 안에 넣고\n",
    "ll = [add, sub]\n",
    "\n",
    "# 인덱스를 통해 접근하고 매개변수를 넣는다\n",
    "ll[0](10, 20)"
   ]
  },
  {
   "cell_type": "markdown",
   "metadata": {},
   "source": [
    "#### chr()\n",
    "\n",
    "10진수로 유니코드표에서 찾아 대응되는 값을 줌\n"
   ]
  },
  {
   "cell_type": "code",
   "execution_count": null,
   "metadata": {},
   "outputs": [],
   "source": [
    "# 10진수로 유니코드포에서 찾아 대응되는 값을 줌\n",
    "chr(65)"
   ]
  },
  {
   "cell_type": "markdown",
   "metadata": {},
   "source": [
    "#### ord()\n",
    "\n",
    "문자를 입력하면 유니코드표에서 찾아 숫자로 반환해줌\n"
   ]
  },
  {
   "cell_type": "code",
   "execution_count": null,
   "metadata": {},
   "outputs": [],
   "source": [
    "# 문자를 입력하면 유니코드에서 숫자로 반환\n",
    "ord(\"A\")"
   ]
  },
  {
   "cell_type": "markdown",
   "metadata": {},
   "source": [
    "#### filter\n"
   ]
  },
  {
   "cell_type": "code",
   "execution_count": null,
   "metadata": {},
   "outputs": [],
   "source": [
    "filtered_list = list(filter(lambda x: x > 3, [1, 2, 3, 4, 5]))\n",
    "print(filtered_list)\n",
    "\n",
    "\n",
    "def filter_fun(x: int):\n",
    "    return x > 10\n",
    "\n",
    "\n",
    "list1 = list(filter(filter_fun, [7, 8, 9, 10, 11, 12]))\n",
    "print(list1)"
   ]
  },
  {
   "cell_type": "markdown",
   "metadata": {},
   "source": [
    "#### zip()\n",
    "\n",
    "두 `Iterable`의 각 원소를 `tuple`형태로 만들어줌\n"
   ]
  },
  {
   "cell_type": "code",
   "execution_count": null,
   "metadata": {},
   "outputs": [],
   "source": [
    "list(zip([\"1\", \"2\", \"3\", \"4\"], [1, 2, 3, 4]))"
   ]
  },
  {
   "cell_type": "code",
   "execution_count": null,
   "metadata": {},
   "outputs": [],
   "source": [
    "s = [1, 3, 4, 8, 13, 17, 20]\n",
    "s_zip = list(zip(s, s[1:]))  # [1,3,4,8,13,17,20] ,[3,4,8,13,17,20]"
   ]
  },
  {
   "cell_type": "markdown",
   "metadata": {},
   "source": [
    "### **repr**()\n"
   ]
  },
  {
   "cell_type": "code",
   "execution_count": null,
   "metadata": {},
   "outputs": [],
   "source": [
    "class Character:\n",
    "    def __repr__(self) -> str:\n",
    "        return \"Hello\"\n",
    "\n",
    "    def __str__(self) -> str:\n",
    "        return \"World\"\n",
    "\n",
    "\n",
    "char = Character()\n",
    "print(char)\n",
    "char"
   ]
  },
  {
   "cell_type": "markdown",
   "metadata": {},
   "source": [
    "### enumerate()\n",
    "\n",
    "`( 순서값, value )`의 `tuple`로 반환한다\n"
   ]
  },
  {
   "cell_type": "code",
   "execution_count": null,
   "metadata": {},
   "outputs": [],
   "source": [
    "가수 = [\"뉴진스\", \"르세라핌\", \"에스파\", \"아이브\"]\n",
    "print(list(enumerate(가수)))\n",
    "print(list(enumerate(가수, 1)))\n",
    "print(list(enumerate(가수, 100)))"
   ]
  },
  {
   "cell_type": "markdown",
   "metadata": {},
   "source": [
    "### range()\n",
    "\n",
    "range( start, stop, step ) slice와 비슷한 형태를 지니고 있다.\n"
   ]
  },
  {
   "cell_type": "code",
   "execution_count": null,
   "metadata": {},
   "outputs": [],
   "source": [
    "x = range(100000)\n",
    "print(x)\n",
    "y = list(x)\n",
    "print(y)"
   ]
  },
  {
   "cell_type": "markdown",
   "metadata": {},
   "source": [
    "### sorted()\n",
    "\n",
    "`iterable`, `key`, `reversed`을 인자로 받는다\n"
   ]
  },
  {
   "cell_type": "code",
   "execution_count": 15,
   "metadata": {},
   "outputs": [
    {
     "data": {
      "text/plain": [
       "[[6, 'hello w', 39],\n",
       " [3, 'hello worl', 33],\n",
       " [5, 'hello wo', 35],\n",
       " [2, 'hello world', 30],\n",
       " [4, 'hello wor', 31]]"
      ]
     },
     "execution_count": 15,
     "metadata": {},
     "output_type": "execute_result"
    }
   ],
   "source": [
    "# 매우 중요합니다.\n",
    "# 알고리즘 문제에 단골 built-in function\n",
    "sorted([1, 2, 100, 200, 3, 4, 10, 20])\n",
    "\n",
    "# reversed = True\n",
    "sorted([1, 2, 100, 200, 3, 4, 10, 20], reverse=True)\n",
    "\n",
    "# key 사용\n",
    "# 각각의 요소가 len안에 들어가서\n",
    "# sorted([5,1,4,3,3,1])와 같아진다.\n",
    "sorted([\"hello\", \"l\", \"hllo\", \"hel\", \"heo\", \"a\"], key=len)\n",
    "\n",
    "# 다른 방법\n",
    "data = [\n",
    "    [2, \"hello world\", 30],\n",
    "    [3, \"hello worl\", 33],\n",
    "    [4, \"hello wor\", 31],\n",
    "    [5, \"hello wo\", 35],\n",
    "    [6, \"hello w\", 39],\n",
    "]\n",
    "\n",
    "# 첫번째 값으로\n",
    "sorted(data)\n",
    "\n",
    "# 두번째 문자열의 길이로\n",
    "sorted(data, key=lambda x: len(x[1]))\n",
    "\n",
    "# 3번째 요소를 기준으로\n",
    "sorted(data, key=lambda x: x[2])\n",
    "\n",
    "#\n",
    "# ||\n",
    "# ```python\n",
    "sorted(data, key=lambda x: x[2] - x[0], reverse=True)\n",
    "# ```\n",
    "# ||"
   ]
  },
  {
   "cell_type": "markdown",
   "metadata": {},
   "source": [
    "## lamba 함수\n"
   ]
  },
  {
   "cell_type": "code",
   "execution_count": null,
   "metadata": {},
   "outputs": [],
   "source": [
    "#  매우 중요!\n",
    "add = lambda x, y: x + y\n",
    "\n",
    "print(add(10, 20))"
   ]
  },
  {
   "cell_type": "code",
   "execution_count": null,
   "metadata": {},
   "outputs": [],
   "source": [
    "# 첫번째 매개변수는 각 요소마다 실행시킬 함수, 두번째 매개변수는 Iterable\n",
    "map1 = map(lambda x: x * 2, \"1234\")\n",
    "list(map1)\n",
    "\n",
    "\"Hello World\".swapcase()"
   ]
  },
  {
   "cell_type": "markdown",
   "metadata": {},
   "source": []
  }
 ],
 "metadata": {
  "kernelspec": {
   "display_name": ".venv",
   "language": "python",
   "name": "python3"
  },
  "language_info": {
   "codemirror_mode": {
    "name": "ipython",
    "version": 3
   },
   "file_extension": ".py",
   "mimetype": "text/x-python",
   "name": "python",
   "nbconvert_exporter": "python",
   "pygments_lexer": "ipython3",
   "version": "3.11.5"
  },
  "orig_nbformat": 4
 },
 "nbformat": 4,
 "nbformat_minor": 2
}
