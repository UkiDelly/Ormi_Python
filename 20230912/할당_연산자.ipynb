{
 "cells": [
  {
   "cell_type": "markdown",
   "metadata": {},
   "source": [
    "# in\n",
    "\n",
    "`JavaScript`의 `in` 문법은 인덱스를 체크 하지만\n",
    "`Python`에서의 `in`은 값을 체크한다.\n"
   ]
  },
  {
   "cell_type": "code",
   "execution_count": 3,
   "metadata": {},
   "outputs": [
    {
     "name": "stdout",
     "output_type": "stream",
     "text": [
      "True\n",
      "True\n"
     ]
    }
   ],
   "source": [
    "#\n",
    "x = 10 in [10, 20, 30]\n",
    "\n",
    "y = \"h\" in \"hello world!\"\n",
    "\n",
    "print(x)\n",
    "print(y)"
   ]
  },
  {
   "cell_type": "code",
   "execution_count": null,
   "metadata": {},
   "outputs": [],
   "source": [
    "# set, dict 주위\n",
    "a = {\"key1\": \"value1\", \"key2\": \"value2\"}\n",
    "b = {10, 20, 30}\n",
    "\n",
    "print( 10 in b) # True\n",
    "print( {10} in b ) # False, 이럴때는 subset을 사용\n",
    "\n",
    "print('key1' in a) # True \n",
    "print('value1' in a) # False, dict에서 key만 검사할수 있다."
   ]
  }
 ],
 "metadata": {
  "kernelspec": {
   "display_name": ".venv",
   "language": "python",
   "name": "python3"
  },
  "language_info": {
   "codemirror_mode": {
    "name": "ipython",
    "version": 3
   },
   "file_extension": ".py",
   "mimetype": "text/x-python",
   "name": "python",
   "nbconvert_exporter": "python",
   "pygments_lexer": "ipython3",
   "version": "3.11.5"
  },
  "orig_nbformat": 4
 },
 "nbformat": 4,
 "nbformat_minor": 2
}
