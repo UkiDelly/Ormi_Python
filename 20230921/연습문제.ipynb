{
 "cells": [
  {
   "cell_type": "code",
   "execution_count": null,
   "metadata": {},
   "outputs": [],
   "source": [
    "n = 10\n",
    "for i in range(n):\n",
    "    print((\" \" * (n - i)) + (\"*\" * (2 * i - 1)))"
   ]
  },
  {
   "cell_type": "code",
   "execution_count": null,
   "metadata": {},
   "outputs": [],
   "source": [
    "for i in range(1, 10):\n",
    "    print(f\"{'*' * ((2 * i) - 1):^18}\")"
   ]
  },
  {
   "cell_type": "code",
   "execution_count": null,
   "metadata": {},
   "outputs": [],
   "source": [
    "n = 10\n",
    "for i in range(n):\n",
    "    print(\"0\", end=\"\")\n",
    "    for j in range(i + 1):\n",
    "        print(\"*\", end=\"\")\n",
    "    print(\"0\")"
   ]
  },
  {
   "cell_type": "code",
   "execution_count": 67,
   "metadata": {},
   "outputs": [
    {
     "name": "stdout",
     "output_type": "stream",
     "text": [
      "<6,7,8,9,10>\n",
      "<1,2,3,4,5>\n",
      "<6,7,8,9,10,11>\n",
      "<1,2,3,4,5,6>\n",
      "<6,7,8,9,10>\n",
      "<1,2,3,4,5>\n",
      "<7,9,11,13,15>\n",
      "<5,5,5,5,5>\n",
      "<12,14,16,18,20>\n"
     ]
    },
    {
     "ename": "AttributeError",
     "evalue": "'int' object has no attribute '_OperList__inner_list'",
     "output_type": "error",
     "traceback": [
      "\u001b[0;31m---------------------------------------------------------------------------\u001b[0m",
      "\u001b[0;31mAttributeError\u001b[0m                            Traceback (most recent call last)",
      "\u001b[1;32m/Users/daehyeon/Documents/coding_files/Boot_Camp/Ormi/python/20230921/연습문제.ipynb 셀 4\u001b[0m line \u001b[0;36m7\n\u001b[1;32m     <a href='vscode-notebook-cell:/Users/daehyeon/Documents/coding_files/Boot_Camp/Ormi/python/20230921/%EC%97%B0%EC%8A%B5%EB%AC%B8%EC%A0%9C.ipynb#W5sZmlsZQ%3D%3D?line=68'>69</a>\u001b[0m \u001b[39mprint\u001b[39m(first \u001b[39m-\u001b[39m second)\n\u001b[1;32m     <a href='vscode-notebook-cell:/Users/daehyeon/Documents/coding_files/Boot_Camp/Ormi/python/20230921/%EC%97%B0%EC%8A%B5%EB%AC%B8%EC%A0%9C.ipynb#W5sZmlsZQ%3D%3D?line=70'>71</a>\u001b[0m \u001b[39mprint\u001b[39m(first \u001b[39m*\u001b[39m \u001b[39m2\u001b[39m)\n\u001b[0;32m---> <a href='vscode-notebook-cell:/Users/daehyeon/Documents/coding_files/Boot_Camp/Ormi/python/20230921/%EC%97%B0%EC%8A%B5%EB%AC%B8%EC%A0%9C.ipynb#W5sZmlsZQ%3D%3D?line=72'>73</a>\u001b[0m \u001b[39mprint\u001b[39m(first \u001b[39m+\u001b[39;49m \u001b[39m10\u001b[39;49m)\n",
      "\u001b[1;32m/Users/daehyeon/Documents/coding_files/Boot_Camp/Ormi/python/20230921/연습문제.ipynb 셀 4\u001b[0m line \u001b[0;36m2\n\u001b[1;32m     <a href='vscode-notebook-cell:/Users/daehyeon/Documents/coding_files/Boot_Camp/Ormi/python/20230921/%EC%97%B0%EC%8A%B5%EB%AC%B8%EC%A0%9C.ipynb#W5sZmlsZQ%3D%3D?line=19'>20</a>\u001b[0m \u001b[39mdef\u001b[39;00m \u001b[39m__add__\u001b[39m(\u001b[39mself\u001b[39m, other: \u001b[39m\"\u001b[39m\u001b[39mOperList\u001b[39m\u001b[39m\"\u001b[39m):\n\u001b[0;32m---> <a href='vscode-notebook-cell:/Users/daehyeon/Documents/coding_files/Boot_Camp/Ormi/python/20230921/%EC%97%B0%EC%8A%B5%EB%AC%B8%EC%A0%9C.ipynb#W5sZmlsZQ%3D%3D?line=20'>21</a>\u001b[0m     \u001b[39mif\u001b[39;00m \u001b[39mlen\u001b[39m(\u001b[39mself\u001b[39m\u001b[39m.\u001b[39m__inner_list) \u001b[39m!=\u001b[39m \u001b[39mlen\u001b[39m(other\u001b[39m.\u001b[39;49m__inner_list):\n\u001b[1;32m     <a href='vscode-notebook-cell:/Users/daehyeon/Documents/coding_files/Boot_Camp/Ormi/python/20230921/%EC%97%B0%EC%8A%B5%EB%AC%B8%EC%A0%9C.ipynb#W5sZmlsZQ%3D%3D?line=21'>22</a>\u001b[0m         \u001b[39mraise\u001b[39;00m \u001b[39mException\u001b[39;00m(\u001b[39m\"\u001b[39m\u001b[39m길이가 달라 더할수 없습니다.\u001b[39m\u001b[39m\"\u001b[39m)\n\u001b[1;32m     <a href='vscode-notebook-cell:/Users/daehyeon/Documents/coding_files/Boot_Camp/Ormi/python/20230921/%EC%97%B0%EC%8A%B5%EB%AC%B8%EC%A0%9C.ipynb#W5sZmlsZQ%3D%3D?line=23'>24</a>\u001b[0m     temp \u001b[39m=\u001b[39m []\n",
      "\u001b[0;31mAttributeError\u001b[0m: 'int' object has no attribute '_OperList__inner_list'"
     ]
    }
   ],
   "source": [
    "# 다음 자료구조를 만들어 주세요\n",
    "# 데이터는 <1,2,3,4> 형식으로 숫자만 저장됩니다.\n",
    "# print() 하면 <1,2,3,4>와 같이 풀력이 되어야합니다.\n",
    "# 메서드는 .append, .remove가 있습니다.\n",
    "# <1,2,3,4> + <1,2,3,4> == <2,4,6,8> 과 같습니다\n",
    "# <1,2,3,4> * 3 == <3,6,9,12> 과 같습니다\n",
    "# <1,2,3,4> - <1,2,1,2> == <0,0,2,2> 과 같습니다\n",
    "\n",
    "\n",
    "class OperList:\n",
    "    def __init__(self, *args: int):\n",
    "        self.__inner_list = list(args)\n",
    "\n",
    "    def append(self, other: int):\n",
    "        self.__inner_list.append(other)\n",
    "\n",
    "    def remove(self, other: int):\n",
    "        self.__inner_list.remove(other)\n",
    "\n",
    "    def __add__(self, other: \"OperList\"):\n",
    "        if len(self.__inner_list) != len(other.__inner_list):\n",
    "            raise Exception(\"길이가 달라 더할수 없습니다.\")\n",
    "        elif not isinstance(other, OperList):\n",
    "            raise TypeError(\"같은 OperList 타입만 지원합니다.\")\n",
    "\n",
    "        temp = []\n",
    "        for s, o in zip(self.__inner_list, other.__inner_list):\n",
    "            temp.append(s + o)\n",
    "\n",
    "        return OperList(*temp)\n",
    "\n",
    "    def __sub__(self, other: \"OperList\"):\n",
    "        if len(self.__inner_list) != len(other.__inner_list):\n",
    "            raise Exception(\"길이가 달라 뺄수 없습니다.\")\n",
    "        elif not isinstance(other, OperList):\n",
    "            raise TypeError(\"같은 OperList 타입만 지원합니다.\")\n",
    "\n",
    "        temp = []\n",
    "        for s, o in zip(self.__inner_list, other.__inner_list):\n",
    "            temp.append(s - o)\n",
    "\n",
    "        return OperList(*temp)\n",
    "\n",
    "    def __mul__(self, other: int):\n",
    "        result = list(map(lambda x: x * other, self.__inner_list))\n",
    "        return OperList(*result)\n",
    "\n",
    "    def __str__(self):\n",
    "        return f'<{ \",\".join(str(i) for i in self.__inner_list) }>'\n",
    "\n",
    "    def __repr__(self):\n",
    "        return f'<{ \",\".join(str(i) for i in self.__inner_list) }>'\n",
    "\n",
    "\n",
    "first = OperList(6, 7, 8, 9, 10)\n",
    "second = OperList(1, 2, 3, 4, 5)\n",
    "print(first)\n",
    "print(second)\n",
    "\n",
    "first.append(11)\n",
    "second.append(6)\n",
    "\n",
    "print(first)\n",
    "print(second)\n",
    "\n",
    "first.remove(11)\n",
    "second.remove(6)\n",
    "\n",
    "print(first)\n",
    "print(second)\n",
    "\n",
    "print(first + second)\n",
    "print(first - second)\n",
    "\n",
    "print(first * 2)\n",
    "\n",
    "print(first + 10)"
   ]
  },
  {
   "cell_type": "code",
   "execution_count": null,
   "metadata": {},
   "outputs": [],
   "source": [
    "from typing import Any\n",
    "\n",
    "\n",
    "class Node:\n",
    "    def __init__(self, data: Any, next: \"Node\") -> None:\n",
    "        self.data = data\n",
    "        self.next = next"
   ]
  }
 ],
 "metadata": {
  "kernelspec": {
   "display_name": ".venv",
   "language": "python",
   "name": "python3"
  },
  "language_info": {
   "codemirror_mode": {
    "name": "ipython",
    "version": 3
   },
   "file_extension": ".py",
   "mimetype": "text/x-python",
   "name": "python",
   "nbconvert_exporter": "python",
   "pygments_lexer": "ipython3",
   "version": "3.11.5"
  },
  "orig_nbformat": 4
 },
 "nbformat": 4,
 "nbformat_minor": 2
}
