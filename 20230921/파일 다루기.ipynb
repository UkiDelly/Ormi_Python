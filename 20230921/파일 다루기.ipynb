{
 "cells": [
  {
   "cell_type": "markdown",
   "metadata": {},
   "source": [
    "# 파일 입출력\n"
   ]
  },
  {
   "cell_type": "code",
   "execution_count": 7,
   "metadata": {},
   "outputs": [
    {
     "name": "stdout",
     "output_type": "stream",
     "text": [
      "python입니다.\n",
      "안녕하세요 ㅎㅎ\n",
      "반가워요 ㅎㅎ\n"
     ]
    }
   ],
   "source": [
    "# open을 사용해서 파일을 열수 있다\n",
    "with open(\"python.txt\", \"r+\", encoding=\"utf8\") as file:\n",
    "    line = file.read()\n",
    "    print(line)"
   ]
  },
  {
   "cell_type": "code",
   "execution_count": 9,
   "metadata": {},
   "outputs": [],
   "source": [
    "with open(\"python.html\", \"w\") as file:\n",
    "    s = \"\"\"<html>\n",
    "    <head>\n",
    "    </head>\n",
    "    <body>\n",
    "    <h1>Hello World</h1>\n",
    "    </body>\n",
    "    </html>\n",
    "    \"\"\"\n",
    "    file.write(s)"
   ]
  },
  {
   "cell_type": "code",
   "execution_count": 11,
   "metadata": {},
   "outputs": [],
   "source": [
    "with open(\"python.csv\", \"w\", encoding=\"utf8\") as file:\n",
    "    s = \"\"\"제목,평점,이미지,줄거리\n",
    "    무빙,5.0,img,줄거리\n",
    "    무빙,5.0,img,줄거리\n",
    "    무빙,5.0,img,줄거리\n",
    "    무빙,5.0,img,줄거리\n",
    "    무빙,5.0,img,줄거리\n",
    "    \"\"\"\n",
    "    file.write(s)"
   ]
  },
  {
   "cell_type": "markdown",
   "metadata": {},
   "source": [
    "## 어려운 예제\n"
   ]
  },
  {
   "cell_type": "code",
   "execution_count": 17,
   "metadata": {},
   "outputs": [
    {
     "name": "stdout",
     "output_type": "stream",
     "text": [
      "1 메모혁신 Notion(노션) 활용 가이드\n",
      "2 제주코딩베이스캠프 Code Festival: Python 100제 1부\n",
      "3 튜토리얼로 배우는 HTML&CSS\n",
      "4 코딩도장 튜토리얼로 배우는 Python 1편 object\n",
      "5 코딩도장 튜토리얼로 배우는 python 2편 제어문\n",
      "6 코딩도장 튜토리얼로 배우는 Python 문제풀이\n",
      "7 타노스의 건틀릿 알고리즘 With Python\n",
      "8 xlsxwriter 튜토리얼로 배우는 Python 엑셀 프로그래밍\n",
      "9 러플 튜토리얼로 배우는 Python\n",
      "10 인공지능을 활용한 업무자동화 With Google Developers Group JEJU\n",
      "11 2017 제주 코딩 해커톤 Django 트랙 상편 1권\n"
     ]
    }
   ],
   "source": [
    "# 어려운 예제\n",
    "# django의 동작원리와도 관련이 있습니다.\n",
    "import requests\n",
    "from bs4 import BeautifulSoup\n",
    "\n",
    "paullab_url = \"http://paullab.co.kr/bookservice/\"\n",
    "response = requests.get(paullab_url)\n",
    "response.encoding = \"utf-8\"\n",
    "html = response.text\n",
    "\n",
    "soup = BeautifulSoup(html, \"html.parser\")\n",
    "\n",
    "contents = \"\"\n",
    "\n",
    "bookservices = soup.select(\".col-lg-6 > h2\")  # col-lg-6 클래스 안의 h2 태그 탐색\n",
    "images = [x[\"src\"] for x in soup.select(\"img\")[2:]]\n",
    "\n",
    "for no, (book, image) in enumerate(zip(bookservices, images), 1):\n",
    "    contents += f\"\"\"\n",
    "    <section>\n",
    "    <h2> {book.text} </h2>\n",
    "    <img src='https://paullab.co.kr/bookservice/{image}'/>\n",
    "    </section>\n",
    "    \"\"\"\n",
    "    print(no, book.text)\n",
    "\n",
    "\n",
    "# 이미지 양식: https://paullab.co.kr/bookservice/img/notion.jpg\n",
    "with open(\"python.html\", \"r+\", encoding=\"utf-8\") as file:\n",
    "    s = f\"\"\"<html>\n",
    "    <head></head>\n",
    "    <body>\n",
    "    {contents}\n",
    "    </body>\n",
    "    </html>\n",
    "    \"\"\"\n",
    "    file.write(s)"
   ]
  },
  {
   "cell_type": "code",
   "execution_count": 1,
   "metadata": {},
   "outputs": [
    {
     "data": {
      "text/plain": [
       "['__abs__',\n",
       " '__add__',\n",
       " '__and__',\n",
       " '__bool__',\n",
       " '__ceil__',\n",
       " '__class__',\n",
       " '__delattr__',\n",
       " '__dir__',\n",
       " '__divmod__',\n",
       " '__doc__',\n",
       " '__eq__',\n",
       " '__float__',\n",
       " '__floor__',\n",
       " '__floordiv__',\n",
       " '__format__',\n",
       " '__ge__',\n",
       " '__getattribute__',\n",
       " '__getnewargs__',\n",
       " '__getstate__',\n",
       " '__gt__',\n",
       " '__hash__',\n",
       " '__index__',\n",
       " '__init__',\n",
       " '__init_subclass__',\n",
       " '__int__',\n",
       " '__invert__',\n",
       " '__le__',\n",
       " '__lshift__',\n",
       " '__lt__',\n",
       " '__mod__',\n",
       " '__mul__',\n",
       " '__ne__',\n",
       " '__neg__',\n",
       " '__new__',\n",
       " '__or__',\n",
       " '__pos__',\n",
       " '__pow__',\n",
       " '__radd__',\n",
       " '__rand__',\n",
       " '__rdivmod__',\n",
       " '__reduce__',\n",
       " '__reduce_ex__',\n",
       " '__repr__',\n",
       " '__rfloordiv__',\n",
       " '__rlshift__',\n",
       " '__rmod__',\n",
       " '__rmul__',\n",
       " '__ror__',\n",
       " '__round__',\n",
       " '__rpow__',\n",
       " '__rrshift__',\n",
       " '__rshift__',\n",
       " '__rsub__',\n",
       " '__rtruediv__',\n",
       " '__rxor__',\n",
       " '__setattr__',\n",
       " '__sizeof__',\n",
       " '__str__',\n",
       " '__sub__',\n",
       " '__subclasshook__',\n",
       " '__truediv__',\n",
       " '__trunc__',\n",
       " '__xor__',\n",
       " 'as_integer_ratio',\n",
       " 'bit_count',\n",
       " 'bit_length',\n",
       " 'conjugate',\n",
       " 'denominator',\n",
       " 'from_bytes',\n",
       " 'imag',\n",
       " 'numerator',\n",
       " 'real',\n",
       " 'to_bytes']"
      ]
     },
     "execution_count": 1,
     "metadata": {},
     "output_type": "execute_result"
    }
   ],
   "source": [
    "1 / 2"
   ]
  }
 ],
 "metadata": {
  "kernelspec": {
   "display_name": ".venv",
   "language": "python",
   "name": "python3"
  },
  "language_info": {
   "codemirror_mode": {
    "name": "ipython",
    "version": 3
   },
   "file_extension": ".py",
   "mimetype": "text/x-python",
   "name": "python",
   "nbconvert_exporter": "python",
   "pygments_lexer": "ipython3",
   "version": "3.11.5"
  },
  "orig_nbformat": 4
 },
 "nbformat": 4,
 "nbformat_minor": 2
}
