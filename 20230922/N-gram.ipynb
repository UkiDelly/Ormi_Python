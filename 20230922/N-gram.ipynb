{
 "cells": [
  {
   "cell_type": "code",
   "execution_count": 2,
   "metadata": {},
   "outputs": [
    {
     "name": "stdout",
     "output_type": "stream",
     "text": [
      "py\n",
      "th\n",
      "on\n",
      "None\n"
     ]
    }
   ],
   "source": [
    "# N-gram\n",
    "def n_gram(string: str, n: int):\n",
    "    for i in range(0, len(string), n):\n",
    "        print(string[i : i + n :])\n",
    "\n",
    "    pass\n",
    "\n",
    "\n",
    "print(n_gram(\"python\", 2))"
   ]
  },
  {
   "cell_type": "code",
   "execution_count": 7,
   "metadata": {},
   "outputs": [
    {
     "name": "stdout",
     "output_type": "stream",
     "text": [
      "16\n"
     ]
    }
   ],
   "source": [
    "import re\n",
    "\n",
    "\n",
    "def solution(data):\n",
    "    # r,e,v 뒤에 있는 숫자만 가져오기\n",
    "    pattern = re.compile(r\"([rev])(10|[0-9|])\")\n",
    "    answer = 0\n",
    "    for _, num in pattern.findall(data):\n",
    "        answer += int(num)\n",
    "    return answer\n",
    "\n",
    "\n",
    "print(solution(\"a10b9r1ce33uab8wc918v2cv11v9\"))"
   ]
  }
 ],
 "metadata": {
  "kernelspec": {
   "display_name": ".venv",
   "language": "python",
   "name": "python3"
  },
  "language_info": {
   "codemirror_mode": {
    "name": "ipython",
    "version": 3
   },
   "file_extension": ".py",
   "mimetype": "text/x-python",
   "name": "python",
   "nbconvert_exporter": "python",
   "pygments_lexer": "ipython3",
   "version": "3.11.5"
  },
  "orig_nbformat": 4
 },
 "nbformat": 4,
 "nbformat_minor": 2
}
