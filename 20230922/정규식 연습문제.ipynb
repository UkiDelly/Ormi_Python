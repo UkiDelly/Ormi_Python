{
 "cells": [
  {
   "cell_type": "code",
   "execution_count": 2,
   "metadata": {},
   "outputs": [
    {
     "name": "stdout",
     "output_type": "stream",
     "text": [
      "30\n"
     ]
    }
   ],
   "source": [
    "# 저주의 숫자 3 과 5\n",
    "# 3과 5가 들어간 숫자를 사용하지 않습니다.\n",
    "#\n",
    "\n",
    "\n",
    "def solution(n: int):\n",
    "    answer = list(filter(lambda x: \"3\" or \"5\" not in str(x), range(100)))\n",
    "    return answer[n]\n",
    "\n",
    "    \"\"\"\n",
    "    1 - 1\n",
    "    2 - 2\n",
    "    3 - 4\n",
    "    4 - 6\n",
    "    5 - 7\n",
    "    6 - 8\n",
    "    7 - 9\n",
    "    8 - 10\n",
    "    9 - 11\n",
    "    10 - 12\n",
    "    11 - 14\n",
    "    12 - 16\n",
    "    13 - 17\n",
    "    14 - 18\n",
    "    15 - 19\n",
    "    16 - 20\n",
    "    17 - 21\n",
    "    18 - 22\n",
    "    19 - 24\n",
    "    20 - 26\n",
    "    21 - 27\n",
    "    22 - 28\n",
    "    23 - 29\n",
    "    24 - 40\n",
    "    25 - 41\n",
    "    26 - 42\n",
    "    27 - 44\n",
    "    28 - 46\n",
    "    29 - 47\n",
    "    30 - 48\n",
    "    \"\"\"\n",
    "\n",
    "    pass\n",
    "\n",
    "\n",
    "print(solution(30))"
   ]
  }
 ],
 "metadata": {
  "kernelspec": {
   "display_name": ".venv",
   "language": "python",
   "name": "python3"
  },
  "language_info": {
   "codemirror_mode": {
    "name": "ipython",
    "version": 3
   },
   "file_extension": ".py",
   "mimetype": "text/x-python",
   "name": "python",
   "nbconvert_exporter": "python",
   "pygments_lexer": "ipython3",
   "version": "3.11.5"
  },
  "orig_nbformat": 4
 },
 "nbformat": 4,
 "nbformat_minor": 2
}
