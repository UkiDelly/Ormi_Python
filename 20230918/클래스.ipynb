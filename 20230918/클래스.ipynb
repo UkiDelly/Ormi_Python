{
 "cells": [
  {
   "cell_type": "code",
   "execution_count": null,
   "metadata": {},
   "outputs": [],
   "source": [
    "class Car:\n",
    "    max_speed = 300\n",
    "\n",
    "    def __init__(self, name):\n",
    "        self.name = name\n",
    "\n",
    "    def start(self):\n",
    "        print(\"차가 출발합니다!\")\n",
    "\n",
    "\n",
    "modelx = Car(\"Tesla Model X\")\n",
    "modely = Car(\"Tesla Model Y\")\n",
    "\n",
    "print(modelx)\n",
    "print(modely)"
   ]
  },
  {
   "cell_type": "code",
   "execution_count": 3,
   "metadata": {},
   "outputs": [
    {
     "name": "stdout",
     "output_type": "stream",
     "text": [
      "Car.kinds ['x', 'y']\n",
      "Car.speed: 100\n",
      "modelx.kinds: ['x', 'y']\n",
      "modely.kinds: ['x', 'y']\n",
      "modelx.speed: 100\n",
      "modely.speed: 100\n"
     ]
    }
   ],
   "source": [
    "class Car:\n",
    "    kinds = []\n",
    "    speed = 300\n",
    "\n",
    "    def add_kinds(self, name):\n",
    "        self.kinds.append(name)\n",
    "\n",
    "    def change_speed(self, speed):\n",
    "        self.speed = speed\n",
    "\n",
    "\n",
    "modelx = Car()\n",
    "modely = Car()\n",
    "\n",
    "modelx.add_kinds(\"x\")\n",
    "modely.add_kinds(\"y\")\n",
    "\n",
    "Car.speed = 100\n",
    "\n",
    "# modelx.change_speed(500)\n",
    "# modely.change_speed(250)\n",
    "print(f\"Car.kinds {Car.kinds}\")\n",
    "print(f\"Car.speed: {Car.speed}\")\n",
    "print(f\"modelx.kinds: {modelx.kinds}\")\n",
    "print(f\"modely.kinds: {modely.kinds}\")\n",
    "print(f\"modelx.speed: {modelx.speed}\")\n",
    "print(f\"modely.speed: {modely.speed}\")"
   ]
  },
  {
   "cell_type": "code",
   "execution_count": 1,
   "metadata": {},
   "outputs": [
    {
     "data": {
      "text/plain": [
       "100"
      ]
     },
     "execution_count": 1,
     "metadata": {},
     "output_type": "execute_result"
    }
   ],
   "source": [
    "x = 100\n",
    "\n",
    "\n",
    "def f():\n",
    "    def ff():\n",
    "        def fff():\n",
    "            global x\n",
    "            x = 200\n",
    "\n",
    "\n",
    "f()\n",
    "x"
   ]
  },
  {
   "cell_type": "markdown",
   "metadata": {},
   "source": [
    "# 상속\n"
   ]
  },
  {
   "cell_type": "code",
   "execution_count": 5,
   "metadata": {},
   "outputs": [
    {
     "name": "stdout",
     "output_type": "stream",
     "text": [
      "A\n",
      "A\n",
      "A\n",
      "True\n",
      "True\n"
     ]
    }
   ],
   "source": [
    "class A:\n",
    "    def hello(self) -> str:\n",
    "        return \"A\"\n",
    "\n",
    "\n",
    "class B(A):\n",
    "    # def hello(self) -> str:\n",
    "    #     return \"B\"\n",
    "    pass\n",
    "\n",
    "\n",
    "class C(B):\n",
    "    pass\n",
    "\n",
    "\n",
    "a = A()\n",
    "b = B()\n",
    "c = C()\n",
    "\n",
    "print(a.hello())\n",
    "print(b.hello())\n",
    "print(c.hello())\n",
    "\n",
    "print(isinstance(b, A))\n",
    "print(isinstance(b, B))"
   ]
  }
 ],
 "metadata": {
  "kernelspec": {
   "display_name": ".venv",
   "language": "python",
   "name": "python3"
  },
  "language_info": {
   "codemirror_mode": {
    "name": "ipython",
    "version": 3
   },
   "file_extension": ".py",
   "mimetype": "text/x-python",
   "name": "python",
   "nbconvert_exporter": "python",
   "pygments_lexer": "ipython3",
   "version": "3.11.5"
  },
  "orig_nbformat": 4
 },
 "nbformat": 4,
 "nbformat_minor": 2
}
