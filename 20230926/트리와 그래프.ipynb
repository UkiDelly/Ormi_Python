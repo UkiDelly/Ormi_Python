{
 "cells": [
  {
   "cell_type": "code",
   "execution_count": 5,
   "metadata": {},
   "outputs": [
    {
     "name": "stdout",
     "output_type": "stream",
     "text": [
      "Tree(root=Node(value=10, left=None, right=None))\n",
      "Tree(root=Node(value=10, left=None, right=None))\n"
     ]
    }
   ],
   "source": [
    "from typing import Any\n",
    "\n",
    "\n",
    "class Node:\n",
    "    def __init__(self, data: Any):\n",
    "        self.data = data\n",
    "        self.left = None\n",
    "        self.right = None\n",
    "\n",
    "    def __str__(self):\n",
    "        return f\"Node(value={self.data}, left={self.left}, right={self.right})\"\n",
    "\n",
    "\n",
    "class Tree:\n",
    "    def __init__(self, root: Any):\n",
    "        self.root = Node(root)\n",
    "\n",
    "    def add(self, data: Any):\n",
    "        current: Node = self.root\n",
    "        new_node = Node(data)\n",
    "        while current.right is not None or current.left is not None:\n",
    "            if data > current.data:\n",
    "                current = current.right\n",
    "            else:\n",
    "                current = current.left\n",
    "        current = new_node\n",
    "\n",
    "    def __str__(self):\n",
    "        return f\"Tree(root={self.root})\"\n",
    "\n",
    "    def __repr__(self):\n",
    "        return f\"Tree(root={self.root})\"\n",
    "\n",
    "\n",
    "tree = Tree(10)\n",
    "\n",
    "print(tree)\n",
    "\n",
    "tree.add(5)\n",
    "\n",
    "print(tree)"
   ]
  },
  {
   "cell_type": "code",
   "execution_count": null,
   "metadata": {},
   "outputs": [],
   "source": [
    "t = {\n",
    "    \"root\": {\n",
    "        \"value\": 5,\n",
    "        \"left\": {\"value\": 3, \"left\": None, \"right\": None},\n",
    "        \"right\": {\n",
    "            \"value\": 8,\n",
    "            \"left\": {\"value\": 7, \"left\": None, \"right\": None},\n",
    "            \"right\": {\"value\": 9, \"left\": None, \"right\": None},\n",
    "        },\n",
    "    }\n",
    "}\n",
    "\n",
    "t[\"root\"][\"value\"]\n",
    "t[\"root\"][\"right\"][\"left\"][\"value\"]"
   ]
  }
 ],
 "metadata": {
  "kernelspec": {
   "display_name": ".venv",
   "language": "python",
   "name": "python3"
  },
  "language_info": {
   "codemirror_mode": {
    "name": "ipython",
    "version": 3
   },
   "file_extension": ".py",
   "mimetype": "text/x-python",
   "name": "python",
   "nbconvert_exporter": "python",
   "pygments_lexer": "ipython3",
   "version": "3.11.5"
  },
  "orig_nbformat": 4
 },
 "nbformat": 4,
 "nbformat_minor": 2
}
