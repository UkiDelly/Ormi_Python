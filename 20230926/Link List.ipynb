{
 "cells": [
  {
   "cell_type": "markdown",
   "metadata": {},
   "source": [
    "# Linked List\n"
   ]
  },
  {
   "cell_type": "code",
   "execution_count": 2,
   "metadata": {},
   "outputs": [
    {
     "data": {
      "text/plain": [
       "{'head': {'data': 12, 'next': {'data': 99, 'next': None}}}"
      ]
     },
     "execution_count": 2,
     "metadata": {},
     "output_type": "execute_result"
    }
   ],
   "source": [
    "# 12,99,37\n",
    "linked_list = {\"head\": {\"data\": 12, \"next\": None}}\n",
    "\n",
    "linked_list[\"head\"]\n",
    "\n",
    "linked_list[\"head\"][\"next\"] = {\"data\": 99, \"next\": None}\n",
    "\n",
    "\n",
    "linked_list"
   ]
  },
  {
   "cell_type": "code",
   "execution_count": 16,
   "metadata": {},
   "outputs": [
    {
     "name": "stdout",
     "output_type": "stream",
     "text": [
      "[90,2,77,36,21]\n"
     ]
    },
    {
     "data": {
      "text/plain": [
       "21"
      ]
     },
     "execution_count": 16,
     "metadata": {},
     "output_type": "execute_result"
    }
   ],
   "source": [
    "from typing import Any\n",
    "\n",
    "\n",
    "# Node\n",
    "class Node:\n",
    "    def __init__(self, data: Any) -> None:\n",
    "        self.data = data\n",
    "        self.next: None | Node = None\n",
    "\n",
    "    def __str__(self) -> str:\n",
    "        return str(self.data)\n",
    "\n",
    "    def __repr__(self) -> str:\n",
    "        return str(self.data)\n",
    "\n",
    "\n",
    "# MyList\n",
    "class MyList:\n",
    "    def __init__(self, *data: Any) -> None:\n",
    "        data: list[Node] = [Node(x) for x in data]\n",
    "        self.head = data[0]\n",
    "        curr = self.head\n",
    "        for i in range(1, len(data)):\n",
    "            curr.next = data[i]\n",
    "            curr = curr.next\n",
    "\n",
    "    def add(self, item: Any) -> None:\n",
    "        curr = self.head\n",
    "        while curr.next is not None:\n",
    "            curr = curr.next\n",
    "        curr.next = Node(item)\n",
    "\n",
    "    def insert(self, index: int, item: Any) -> None:\n",
    "        new_node = Node(item)\n",
    "\n",
    "        if index == 0:\n",
    "            new_node.next = self.head\n",
    "            self.head = new_node\n",
    "            return\n",
    "        node = self[index - 1]\n",
    "        temp = node.next\n",
    "        node.next = new_node\n",
    "        new_node.next = temp\n",
    "\n",
    "    def __getitem__(self, index: int) -> Node:\n",
    "        count = 0\n",
    "        curr: Node = self.head\n",
    "        while count < index:\n",
    "            curr = curr.next\n",
    "            count += 1\n",
    "        return curr\n",
    "\n",
    "    def __str__(self) -> str:\n",
    "        l = []\n",
    "        curr = self.head\n",
    "        while curr is not None:\n",
    "            l.append(str(curr))\n",
    "            curr = curr.next\n",
    "\n",
    "        return f'[{\",\".join(l)}]'\n",
    "\n",
    "    def __repr__(self) -> str:\n",
    "        l = []\n",
    "        curr = self.head\n",
    "        while curr is not None:\n",
    "            l.append(str(curr))\n",
    "            curr = curr.next\n",
    "\n",
    "        return f'[{\",\".join(l)}]'\n",
    "\n",
    "\n",
    "m_list = MyList(90, 2, 77, 36, 21)\n",
    "\n",
    "print(m_list)\n",
    "m_list[4]"
   ]
  },
  {
   "cell_type": "code",
   "execution_count": 17,
   "metadata": {},
   "outputs": [
    {
     "data": {
      "text/plain": [
       "[1, 2, 3, 4, 0]"
      ]
     },
     "execution_count": 17,
     "metadata": {},
     "output_type": "execute_result"
    }
   ],
   "source": [
    "l = [1, 2, 3, 4]\n",
    "l.insert(10,0)\n",
    "l"
   ]
  }
 ],
 "metadata": {
  "kernelspec": {
   "display_name": ".venv",
   "language": "python",
   "name": "python3"
  },
  "language_info": {
   "codemirror_mode": {
    "name": "ipython",
    "version": 3
   },
   "file_extension": ".py",
   "mimetype": "text/x-python",
   "name": "python",
   "nbconvert_exporter": "python",
   "pygments_lexer": "ipython3",
   "version": "3.11.5"
  },
  "orig_nbformat": 4
 },
 "nbformat": 4,
 "nbformat_minor": 2
}
