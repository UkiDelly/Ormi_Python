{
 "cells": [
  {
   "cell_type": "markdown",
   "metadata": {},
   "source": [
    "# 일급 함수와 고차함수\n"
   ]
  },
  {
   "cell_type": "code",
   "execution_count": 3,
   "metadata": {},
   "outputs": [
    {
     "name": "stdout",
     "output_type": "stream",
     "text": [
      "나용\n"
     ]
    }
   ],
   "source": [
    "class Cat:\n",
    "    def cry(self):\n",
    "        print(\"나용\")\n",
    "\n",
    "\n",
    "lical_sound = Cat().cry\n",
    "\n",
    "lical_sound()"
   ]
  },
  {
   "cell_type": "code",
   "execution_count": 4,
   "metadata": {},
   "outputs": [
    {
     "data": {
      "text/plain": [
       "[10, 20, 30, 40]"
      ]
     },
     "execution_count": 4,
     "metadata": {},
     "output_type": "execute_result"
    }
   ],
   "source": [
    "l = [10, 20, 30]\n",
    "\n",
    "la = l.append\n",
    "la(40)\n",
    "l"
   ]
  },
  {
   "cell_type": "code",
   "execution_count": 6,
   "metadata": {},
   "outputs": [
    {
     "name": "stdout",
     "output_type": "stream",
     "text": [
      "5\n"
     ]
    }
   ],
   "source": [
    "class Operator:\n",
    "    def add(self, x: int, y: int):\n",
    "        return x + y\n",
    "\n",
    "    def sub(self, x: int, y: int):\n",
    "        return x - y\n",
    "\n",
    "    def mul(self, x: int, y: int):\n",
    "        return x * y\n",
    "\n",
    "    def div(self, x: int, y: int):\n",
    "        return x / y\n",
    "\n",
    "    def _and(self, x: int, y: int):\n",
    "        pass\n",
    "\n",
    "    def _or(self, x: int, y: int):\n",
    "        pass\n",
    "\n",
    "\n",
    "op = Operator()\n",
    "funcs = {\n",
    "    \"add\": op.add,\n",
    "    \"sub\": op.sub,\n",
    "    \"mul\": op.mul,\n",
    "    \"div\": op.div,\n",
    "}\n",
    "print(funcs[\"add\"](2, 3))  # 출력: 5"
   ]
  },
  {
   "cell_type": "code",
   "execution_count": 12,
   "metadata": {},
   "outputs": [
    {
     "name": "stdout",
     "output_type": "stream",
     "text": [
      "12.96\n"
     ]
    }
   ],
   "source": [
    "from typing import Callable\n",
    "\n",
    "\n",
    "def square(x: int) -> int:\n",
    "    return x**2\n",
    "\n",
    "\n",
    "def area(radius: int, s: Callable[..., int]):\n",
    "    return s(radius) * 3.24\n",
    "\n",
    "\n",
    "print(area(2, square))"
   ]
  },
  {
   "cell_type": "code",
   "execution_count": 15,
   "metadata": {},
   "outputs": [
    {
     "data": {
      "text/plain": [
       "10.0"
      ]
     },
     "execution_count": 15,
     "metadata": {},
     "output_type": "execute_result"
    }
   ],
   "source": [
    "import math\n",
    "\n",
    "\n",
    "def square(x: int):\n",
    "    return math.pow(x, 2)\n",
    "\n",
    "\n",
    "def root(x: int):\n",
    "    return math.sqrt(x)\n",
    "\n",
    "\n",
    "def length(a: int, b: int, square: Callable[..., float], root: Callable[..., float]):\n",
    "    c = square(a) + square(b)\n",
    "    return root(c)\n",
    "\n",
    "\n",
    "length(6, 8, square, root)"
   ]
  },
  {
   "cell_type": "markdown",
   "metadata": {},
   "source": [
    "## Closer"
   ]
  },
  {
   "cell_type": "code",
   "execution_count": 14,
   "metadata": {},
   "outputs": [
    {
     "data": {
      "text/plain": [
       "19"
      ]
     },
     "execution_count": 14,
     "metadata": {},
     "output_type": "execute_result"
    }
   ],
   "source": [
    "\n",
    "def any_func():\n",
    "    add_9 = 9\n",
    "\n",
    "    def closer(x: int):\n",
    "        nonlocal add_9\n",
    "        add_9 += x\n",
    "        return add_9\n",
    "\n",
    "    return closer\n",
    "\n",
    "\n",
    "func = any_func()\n",
    "func(10)"
   ]
  },
  {
   "cell_type": "code",
   "execution_count": 11,
   "metadata": {},
   "outputs": [
    {
     "data": {
      "text/plain": [
       "2"
      ]
     },
     "execution_count": 11,
     "metadata": {},
     "output_type": "execute_result"
    }
   ],
   "source": [
    "import sys\n",
    "\n",
    "\n",
    "def f():\n",
    "    l = [10, 20, 30]\n",
    "    return l\n",
    "\n",
    "\n",
    "sample = f()\n",
    "sys.getrefcount(sample)"
   ]
  }
 ],
 "metadata": {
  "kernelspec": {
   "display_name": ".venv",
   "language": "python",
   "name": "python3"
  },
  "language_info": {
   "codemirror_mode": {
    "name": "ipython",
    "version": 3
   },
   "file_extension": ".py",
   "mimetype": "text/x-python",
   "name": "python",
   "nbconvert_exporter": "python",
   "pygments_lexer": "ipython3",
   "version": "3.11.5"
  },
  "orig_nbformat": 4
 },
 "nbformat": 4,
 "nbformat_minor": 2
}
