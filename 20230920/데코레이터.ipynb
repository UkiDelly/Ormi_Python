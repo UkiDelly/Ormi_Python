{
 "cells": [
  {
   "cell_type": "markdown",
   "metadata": {},
   "source": [
    "# 데코레이터\n"
   ]
  },
  {
   "cell_type": "code",
   "execution_count": 4,
   "metadata": {},
   "outputs": [
    {
     "name": "stdout",
     "output_type": "stream",
     "text": [
      "Before the function call\n",
      "Hello, World!\n",
      "After the function call\n"
     ]
    }
   ],
   "source": [
    "from typing import Callable\n",
    "\n",
    "\n",
    "def simple_decorator(function: Callable):\n",
    "    def wrapper():\n",
    "        print(\"Before the function call\")\n",
    "        function()\n",
    "        print(\"After the function call\")\n",
    "\n",
    "    return wrapper\n",
    "\n",
    "\n",
    "# @simple_decorator\n",
    "def hello():\n",
    "    print(\"Hello, World!\")\n",
    "\n",
    "\n",
    "# hello()  # 데코레이터가 없는 상태에서는 simple_decorator(hello)() 와 같습니다.\n",
    "simple_decorator(hello)()"
   ]
  },
  {
   "cell_type": "markdown",
   "metadata": {},
   "source": [
    "### decorator 만들기\n"
   ]
  },
  {
   "cell_type": "code",
   "execution_count": null,
   "metadata": {},
   "outputs": [],
   "source": [
    "# step 1\n",
    "def data_Preprocessing(function):\n",
    "    def wrapper():\n",
    "        pass\n",
    "\n",
    "    return wrapper\n",
    "\n",
    "\n",
    "@data_Preprocessing\n",
    "def mean(data):\n",
    "    return sum(data) / len(data)\n",
    "\n",
    "\n",
    "mean([1, 2, \"3\", 4, \"5\"])  # TypeError 발생"
   ]
  },
  {
   "cell_type": "code",
   "execution_count": null,
   "metadata": {},
   "outputs": [],
   "source": [
    "# step 2\n",
    "def data_Preprocessing(function):\n",
    "    def wrapper(data):\n",
    "        print(data)\n",
    "\n",
    "    return wrapper\n",
    "\n",
    "\n",
    "@data_Preprocessing\n",
    "def mean(data):\n",
    "    return sum(data) / len(data)\n",
    "\n",
    "\n",
    "mean([1, 2, \"3\", 4, \"5\"])  # 데이터만 출력하고 함수는 None을 반환"
   ]
  },
  {
   "cell_type": "code",
   "execution_count": 5,
   "metadata": {},
   "outputs": [
    {
     "data": {
      "text/plain": [
       "3.0"
      ]
     },
     "execution_count": 5,
     "metadata": {},
     "output_type": "execute_result"
    }
   ],
   "source": [
    "# step 3\n",
    "def data_Preprocessing(function):\n",
    "    def wrapper(data):\n",
    "        return function(list(map(int, data)))\n",
    "\n",
    "    return wrapper\n",
    "\n",
    "\n",
    "@data_Preprocessing\n",
    "def mean(data):\n",
    "    return sum(data) / len(data)\n",
    "\n",
    "\n",
    "# data_Preprocessing(mean)(data)와 같음\n",
    "# 즉 mean의 인자가 wrapper의 인자가 된다.\n",
    "\n",
    "mean([1, 2, \"3\", 4, \"5\"])  # 출력: 3.0 (정상 작동)"
   ]
  },
  {
   "cell_type": "code",
   "execution_count": 8,
   "metadata": {},
   "outputs": [
    {
     "name": "stdout",
     "output_type": "stream",
     "text": [
      "Hello B\n",
      "None\n"
     ]
    }
   ],
   "source": [
    "def outer(function: Callable):\n",
    "    def wrapper():\n",
    "        function()()\n",
    "\n",
    "    return wrapper\n",
    "\n",
    "\n",
    "@outer\n",
    "def a():\n",
    "    def b():\n",
    "        print(\"Hello B\")\n",
    "\n",
    "    return b\n",
    "\n",
    "\n",
    "print(a())"
   ]
  },
  {
   "cell_type": "code",
   "execution_count": 26,
   "metadata": {},
   "outputs": [
    {
     "name": "stdout",
     "output_type": "stream",
     "text": [
      "안녕하세요\n"
     ]
    }
   ],
   "source": [
    "# 이런 식으로 우린 사용합니다.\n",
    "# login한 사용자만 게시판 읽도록\n",
    "def login(login: bool):\n",
    "    def check_login(function: Callable):\n",
    "        def wrapper(feed: str):\n",
    "            if login:\n",
    "                function(feed)\n",
    "            else:\n",
    "                print(\"로그인해주세요\")\n",
    "\n",
    "        return wrapper\n",
    "\n",
    "    return check_login\n",
    "\n",
    "\n",
    "@login(True)\n",
    "def 게시판읽기(feed: str):\n",
    "    print(feed)\n",
    "    pass\n",
    "\n",
    "login(True)(게시판읽기)(\"안녕하세요\")\n",
    "\n",
    "\n",
    "# 게시판읽기(\"안녕하세요\")"
   ]
  }
 ],
 "metadata": {
  "kernelspec": {
   "display_name": ".venv",
   "language": "python",
   "name": "python3"
  },
  "language_info": {
   "codemirror_mode": {
    "name": "ipython",
    "version": 3
   },
   "file_extension": ".py",
   "mimetype": "text/x-python",
   "name": "python",
   "nbconvert_exporter": "python",
   "pygments_lexer": "ipython3",
   "version": "3.11.5"
  },
  "orig_nbformat": 4
 },
 "nbformat": 4,
 "nbformat_minor": 2
}
