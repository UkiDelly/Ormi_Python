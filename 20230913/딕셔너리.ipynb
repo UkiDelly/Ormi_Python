{
 "cells": [
  {
   "cell_type": "code",
   "execution_count": 2,
   "metadata": {},
   "outputs": [
    {
     "name": "stdout",
     "output_type": "stream",
     "text": [
      "{'one': '하나', 'two': '둘', 'three': 3, 'four': 4}\n"
     ]
    }
   ],
   "source": [
    "numbers: dict[str, str | int] = {\"one\": \"하나\", \"two\": \"둘\", \"three\": \"셋\"}\n",
    "numbers.update({\"three\": 3, \"four\": 4})\n",
    "print(numbers)"
   ]
  },
  {
   "cell_type": "markdown",
   "metadata": {},
   "source": [
    "# 연습문제\n"
   ]
  },
  {
   "cell_type": "code",
   "execution_count": 13,
   "metadata": {},
   "outputs": [
    {
     "name": "stdout",
     "output_type": "stream",
     "text": [
      "75.0\n",
      "{'국어': 97, '영어': 48, '수학': 100, '사회': 70, '과학': 85}\n",
      "100\n",
      "수학\n",
      "수학\n"
     ]
    }
   ],
   "source": [
    "data = {\"국어\": 97, \"영어\": 38, \"수학\": 90}\n",
    "# 문제1: 다음 국영수 dict에 점수에 평균을 구하는 코드를 작성해주세요.\n",
    "\n",
    "result1 = sum(data.values()) / len(data)\n",
    "print(result1)\n",
    "\n",
    "# 문제2: {'사회':70, '과학':85}가 추가되었습니다. dict에 평균을 구하는 코드를 작성해주세요.\n",
    "data.update({\"사회\": 70, \"과학\": 85})\n",
    "result2 = sum(data.values()) / len(data)\n",
    "# 문제3: 영어와 수학점수가 각각 10점씩 올랐습니다. 점수를 10점 추가하는 코드를 작성해주세요.\n",
    "data[\"영어\"] += 10\n",
    "data[\"수학\"] += 10\n",
    "print(data)\n",
    "# 문제4: 최종 점수에서 가장 높은 점수를 출력하는 코드를 작성해주세요.\n",
    "result3 = max(data.values())\n",
    "print(result3)\n",
    "\n",
    "\n",
    "result4 = max(data.items(), key=lambda x: x[1])[0]\n",
    "result5 = list(data.keys())[list(data.values()).index(max(data.values()))]\n",
    "\n",
    "\n",
    "# 린트에서 에러라고 하지만 실제로 동작하는 코드\n",
    "# data.items()가 아닌 이상 data를 순회하면 key값만 가져올수 있다.\n",
    "# 이 key값을 key=data.get()안에 넣어줌으로써, 기준이 value가 되며, max를 사용했으니 가장 큰 값을 출력한다.\n",
    "result6 = max(data.keys(),key=data.get)\n",
    "\n",
    "\n",
    "print(result4)\n",
    "print(result6)"
   ]
  },
  {
   "cell_type": "code",
   "execution_count": 15,
   "metadata": {},
   "outputs": [
    {
     "data": {
      "text/plain": [
       "'서울'"
      ]
     },
     "execution_count": 15,
     "metadata": {},
     "output_type": "execute_result"
    }
   ],
   "source": [
    "local = {\"제주\": 100, \"서울\": 977, \"부산\": 500}\n",
    "rainfall = {\"제주\": 100, \"서울\": 97, \"부산\": 50}\n",
    "result = max(rainfall,key=local.get)\n",
    "\n",
    "result"
   ]
  },
  {
   "cell_type": "markdown",
   "metadata": {},
   "source": [
    "||\n",
    "\n",
    "```python\n",
    "\n",
    "```\n",
    "\n",
    "||\n"
   ]
  },
  {
   "cell_type": "markdown",
   "metadata": {},
   "source": []
  }
 ],
 "metadata": {
  "kernelspec": {
   "display_name": ".venv",
   "language": "python",
   "name": "python3"
  },
  "language_info": {
   "codemirror_mode": {
    "name": "ipython",
    "version": 3
   },
   "file_extension": ".py",
   "mimetype": "text/x-python",
   "name": "python",
   "nbconvert_exporter": "python",
   "pygments_lexer": "ipython3",
   "version": "3.11.5"
  },
  "orig_nbformat": 4
 },
 "nbformat": 4,
 "nbformat_minor": 2
}
