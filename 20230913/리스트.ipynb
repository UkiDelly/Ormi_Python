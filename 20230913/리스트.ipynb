{
 "cells": [
  {
   "cell_type": "markdown",
   "metadata": {},
   "source": [
    "# 리스트 ( 더 나아가기 )\n"
   ]
  },
  {
   "cell_type": "code",
   "execution_count": 1,
   "metadata": {},
   "outputs": [
    {
     "data": {
      "text/plain": [
       "['__add__',\n",
       " '__class__',\n",
       " '__class_getitem__',\n",
       " '__contains__',\n",
       " '__delattr__',\n",
       " '__delitem__',\n",
       " '__dir__',\n",
       " '__doc__',\n",
       " '__eq__',\n",
       " '__format__',\n",
       " '__ge__',\n",
       " '__getattribute__',\n",
       " '__getitem__',\n",
       " '__getstate__',\n",
       " '__gt__',\n",
       " '__hash__',\n",
       " '__iadd__',\n",
       " '__imul__',\n",
       " '__init__',\n",
       " '__init_subclass__',\n",
       " '__iter__',\n",
       " '__le__',\n",
       " '__len__',\n",
       " '__lt__',\n",
       " '__mul__',\n",
       " '__ne__',\n",
       " '__new__',\n",
       " '__reduce__',\n",
       " '__reduce_ex__',\n",
       " '__repr__',\n",
       " '__reversed__',\n",
       " '__rmul__',\n",
       " '__setattr__',\n",
       " '__setitem__',\n",
       " '__sizeof__',\n",
       " '__str__',\n",
       " '__subclasshook__',\n",
       " 'append',\n",
       " 'clear',\n",
       " 'copy',\n",
       " 'count',\n",
       " 'extend',\n",
       " 'index',\n",
       " 'insert',\n",
       " 'pop',\n",
       " 'remove',\n",
       " 'reverse',\n",
       " 'sort']"
      ]
     },
     "execution_count": 1,
     "metadata": {},
     "output_type": "execute_result"
    }
   ],
   "source": [
    "dir(list)"
   ]
  },
  {
   "cell_type": "code",
   "execution_count": 1,
   "metadata": {
    "ExecuteTime": {
     "end_time": "2023-09-13T02:43:53.459889Z",
     "start_time": "2023-09-13T02:43:53.424496Z"
    }
   },
   "outputs": [
    {
     "name": "stdout",
     "output_type": "stream",
     "text": [
      "4395223872 4395223872 4395223232\n"
     ]
    },
    {
     "data": {
      "text/plain": "([1, 2, 3, 5], [1, 2, 3, 5], [1, 2, 3, 4])"
     },
     "execution_count": 1,
     "metadata": {},
     "output_type": "execute_result"
    }
   ],
   "source": [
    "# copy 메소드\n",
    "# 얕은 복사 및 깊은 복사의 개념\n",
    "l = [1, 2, 3]\n",
    "l2 = l\n",
    "l3 = l.copy()\n",
    "\n",
    "l3.append(4)\n",
    "l2.append(5)\n",
    "\n",
    "print(id(l), id(l2), id(l3))\n",
    "\n",
    "l, l2, l3"
   ]
  },
  {
   "cell_type": "code",
   "execution_count": 10,
   "metadata": {},
   "outputs": [
    {
     "name": "stdout",
     "output_type": "stream",
     "text": [
      "a: [10, 20], b: [100, 200], l: [[10, 20], [100, 200]], l2:[[10, 20], [100, 200]]\n",
      "a: [10, 20, 30], b: [100, 200], l: [[10, 20, 30], [100, 200]], l2:[[10, 20, 30], [100, 200]]\n"
     ]
    }
   ],
   "source": [
    "a = [10, 20]\n",
    "b = [100, 200]\n",
    "\n",
    "l = [a, b]\n",
    "l2 = l.copy()\n",
    "\n",
    "\n",
    "print(f\"a: {a}, b: {b}, l: {l}, l2:{l2}\")\n",
    "\n",
    "a.append(30)\n",
    "\n",
    "print(f\"a: {a}, b: {b}, l: {l}, l2:{l2}\")"
   ]
  },
  {
   "cell_type": "code",
   "execution_count": 20,
   "metadata": {},
   "outputs": [
    {
     "name": "stdout",
     "output_type": "stream",
     "text": [
      "a: [10, 20], b: [100, 200], l: [[10, 20], [100, 200]], l2:[[10, 20], [100, 200]]\n",
      "a: [10, 20, 30], b: [100, 200], l: [[10, 20, 30], [100, 200]], l2:[[10, 20, 30], [100, 200]]\n"
     ]
    }
   ],
   "source": [
    "import copy\n",
    "\n",
    "\n",
    "a = [10, 20]\n",
    "b = [100, 200]\n",
    "c = [\"a\", \"b\", \"c\"]\n",
    "\n",
    "l = [a, b]\n",
    "l2 = l.copy()\n",
    "\n",
    "\n",
    "print(f\"a: {a}, b: {b}, l: {l}, l2:{l2}\")\n",
    "\n",
    "a.append(30)\n",
    "\n",
    "print(f\"a: {a}, b: {b}, l: {l}, l2:{l2}\")"
   ]
  },
  {
   "cell_type": "markdown",
   "metadata": {},
   "source": [
    "### 연습문제\n"
   ]
  },
  {
   "cell_type": "code",
   "execution_count": 2,
   "metadata": {
    "ExecuteTime": {
     "end_time": "2023-09-13T02:53:47.600232Z",
     "start_time": "2023-09-13T02:53:47.579130Z"
    }
   },
   "outputs": [
    {
     "ename": "SyntaxError",
     "evalue": "invalid syntax (1703526770.py, line 11)",
     "output_type": "error",
     "traceback": [
      "\u001B[0;36m  Cell \u001B[0;32mIn[2], line 11\u001B[0;36m\u001B[0m\n\u001B[0;31m    id(l1) id(l2)\u001B[0m\n\u001B[0m           ^\u001B[0m\n\u001B[0;31mSyntaxError\u001B[0m\u001B[0;31m:\u001B[0m invalid syntax\n"
     ]
    }
   ],
   "source": [
    "l = sorted([10, 20, 40, 50, 30])\n",
    "index = l.index(20)\n",
    "l.insert(index+1, 25)\n",
    "\n",
    "\n",
    "\n",
    "\n",
    "l1 = [1,2,3,4]\n",
    "l2 = sorted(l1)\n",
    "\n",
    "print(id(l1), id(l2))\n",
    "\n",
    "\n",
    "l3 = list(filter(lambda x:x!=2, l1))  # list(filter(lambda x: x!=2,l1))\n",
    "l3"
   ]
  }
 ],
 "metadata": {
  "kernelspec": {
   "display_name": ".venv",
   "language": "python",
   "name": "python3"
  },
  "language_info": {
   "codemirror_mode": {
    "name": "ipython",
    "version": 3
   },
   "file_extension": ".py",
   "mimetype": "text/x-python",
   "name": "python",
   "nbconvert_exporter": "python",
   "pygments_lexer": "ipython3",
   "version": "3.11.5"
  },
  "orig_nbformat": 4
 },
 "nbformat": 4,
 "nbformat_minor": 2
}
