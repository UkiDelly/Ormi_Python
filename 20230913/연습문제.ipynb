{
 "cells": [
  {
   "cell_type": "markdown",
   "metadata": {},
   "source": [
    "# 연습 문제\n"
   ]
  },
  {
   "cell_type": "code",
   "execution_count": 52,
   "metadata": {},
   "outputs": [
    {
     "name": "stdout",
     "output_type": "stream",
     "text": [
      "철수\n"
     ]
    }
   ],
   "source": [
    "# 문제 1\n",
    "# 주어진 리스트 data = [{\"name\": \"길동\", \"수학\": 3, , \"과학\": 93}, {\"name\": \"춘향\", \"수학\": 33, \"수학\": 11}, {\"name\": \"철수\", \"수학\": 94, \"과학\": 67}]에서 평균점수가 가장 높은 학생에 이름을 출력하세요.\n",
    "\n",
    "data = [\n",
    "    {\"name\": \"길동\", \"수학\": 3, \"과학\": 93},\n",
    "    {\"name\": \"춘향\", \"수학\": 33, \"과학\": 11},\n",
    "    {\"name\": \"철수\", \"수학\": 94, \"과학\": 67},\n",
    "]\n",
    "\n",
    "# (name,평균)\n",
    "name_score = []\n",
    "for i in data:\n",
    "    values = list(filter(lambda x: type(x) is int, i.values()))\n",
    "    avg = sum(values) / len(values)\n",
    "    name_score.append((i.get(\"name\"), avg))\n",
    "result = max(name_score, key=lambda x: x[1])[0]\n",
    "print(result)"
   ]
  },
  {
   "cell_type": "code",
   "execution_count": 29,
   "metadata": {},
   "outputs": [
    {
     "name": "stdout",
     "output_type": "stream",
     "text": [
      "{'Tom': 92, 'Jerry': 100, 'Mickey': 75}\n"
     ]
    }
   ],
   "source": [
    "# 문제 2\n",
    "# 주어진 사전 grades = {\"Tom\": 87, \"Jerry\": 95, \"Mickey\": 70}의 모든 값을 5점씩 증가시키고 결과를 출력하세요.\n",
    "grades = {\"Tom\": 87, \"Jerry\": 95, \"Mickey\": 70}\n",
    "\n",
    "for key in grades:\n",
    "    grades[key] += 5\n",
    "\n",
    "print(grades)"
   ]
  },
  {
   "cell_type": "code",
   "execution_count": 49,
   "metadata": {},
   "outputs": [
    {
     "name": "stdout",
     "output_type": "stream",
     "text": [
      "apple\n"
     ]
    }
   ],
   "source": [
    "# 문제 3\n",
    "# 주어진 문자열 s = \"apple banana apple cherry banana cherry apple\"에서 가장 자주 등장하는 단어를 출력하세요.\n",
    "from collections import Counter\n",
    "\n",
    "s = \"apple banana apple cherry banana cherry apple\"\n",
    "str_list = s.split(\" \")\n",
    "counter = Counter(str_list)\n",
    "result = counter.most_common(1)[0][0]\n",
    "print(result)"
   ]
  },
  {
   "cell_type": "code",
   "execution_count": 53,
   "metadata": {},
   "outputs": [
    {
     "name": "stdout",
     "output_type": "stream",
     "text": [
      "apple\n"
     ]
    }
   ],
   "source": [
    "# 문제 3\n",
    "# 주어진 문자열 s = \"apple banana apple cherry banana cherry apple\"에서 가장 자주 등장하는 단어를 출력하세요.\n",
    "\n",
    "s = \"apple banana apple cherry banana cherry apple\"\n",
    "str_list = s.split(\" \")\n",
    "result = max(str_list, key=str_list.count)\n",
    "print(result)"
   ]
  }
 ],
 "metadata": {
  "kernelspec": {
   "display_name": ".venv",
   "language": "python",
   "name": "python3"
  },
  "language_info": {
   "codemirror_mode": {
    "name": "ipython",
    "version": 3
   },
   "file_extension": ".py",
   "mimetype": "text/x-python",
   "name": "python",
   "nbconvert_exporter": "python",
   "pygments_lexer": "ipython3",
   "version": "3.11.5"
  },
  "orig_nbformat": 4
 },
 "nbformat": 4,
 "nbformat_minor": 2
}
