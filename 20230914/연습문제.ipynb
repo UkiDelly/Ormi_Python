{
 "cells": [
  {
   "cell_type": "markdown",
   "metadata": {},
   "source": [
    "# 연습 문제\n"
   ]
  },
  {
   "cell_type": "code",
   "execution_count": null,
   "metadata": {},
   "outputs": [],
   "source": [
    "# 아래 기본 data를 기반으로 문제를 풀어주세요.\n",
    "data = [\n",
    "    {\n",
    "        \"_id\": \"fd7e9a0f-e77b-436a-B781-119b66033d49\",\n",
    "        \"index\": \"1\",\n",
    "        \"name\": \"나주헌\",\n",
    "        \"gender\": \"여성\",\n",
    "        \"age\": \"43\",\n",
    "    },\n",
    "    {\n",
    "        \"_id\": \"8ec6eabb-160a-41e4-A3de-cd33aff0b281\",\n",
    "        \"index\": \"2\",\n",
    "        \"name\": \"엄루다\",\n",
    "        \"gender\": \"남성\",\n",
    "        \"age\": \"22\",\n",
    "    },\n",
    "    {\n",
    "        \"_id\": \"bcf804f7-0452-4c31-B9d1-20cc2d38490b\",\n",
    "        \"index\": \"3\",\n",
    "        \"name\": \"형유환\",\n",
    "        \"gender\": \"남성\",\n",
    "        \"age\": \"31\",\n",
    "    },\n",
    "]\n",
    "# 문제 1 gender, age값을 추출해보세요. 아래 양식처럼 추출하시면 됩니다. 가능하면 map을 사용해주세요.\n",
    "\"\"\"\n",
    " [\n",
    "  {\n",
    "    \"gender\": \"여성\",\n",
    "    \"age\": \"43\"\n",
    "  },\n",
    "  {\n",
    "    \"gender\": \"남성\",\n",
    "    \"age\": \"22\"\n",
    "  },\n",
    "  {\n",
    "    \"gender\": \"남성\",\n",
    "    \"age\": \"31\"\n",
    "  }\n",
    "]\n",
    "\"\"\"\n",
    "\n",
    "# 문제 2 User라는 class를 만들어 해당 데이터를 관리해주세요. 아래처럼 저장되어야 합니다.\n",
    "# 다만 꼭 변수 이름이 user_1...user_n 일 필요는 없습니다.\n",
    "# 저장양식: '[user_1, user_2, user_3]'\n",
    "\n",
    "# 문제 3 BankAccount 클래스를 생성하세요. 이 클래스는 owner(계좌주 이름), balance(잔액) 속성을 가져야 합니다.\n",
    "# 이 클래스는 deposit(amount) (입금) 및 withdraw(amount) (출금) 메서드를 가져야 합니다.\n",
    "# 단, 출금 시 잔액보다 큰 금액을 출금하려고 하면 \"잔액 부족\" 메시지를 출력해야 합니다."
   ]
  },
  {
   "cell_type": "code",
   "execution_count": 12,
   "metadata": {},
   "outputs": [
    {
     "name": "stdout",
     "output_type": "stream",
     "text": [
      "[{'gender': '여성', 'age': '43'}, {'gender': '남성', 'age': '22'}, {'gender': '남성', 'age': '31'}]\n"
     ]
    }
   ],
   "source": [
    "# 문제 1 gender, age값을 추출해보세요. 아래 양식처럼 추출하시면 됩니다. 가능하면 map을 사용해주세요.\n",
    "data = [\n",
    "    {\n",
    "        \"_id\": \"fd7e9a0f-e77b-436a-B781-119b66033d49\",\n",
    "        \"index\": \"1\",\n",
    "        \"name\": \"나주헌\",\n",
    "        \"gender\": \"여성\",\n",
    "        \"age\": \"43\",\n",
    "    },\n",
    "    {\n",
    "        \"_id\": \"8ec6eabb-160a-41e4-A3de-cd33aff0b281\",\n",
    "        \"index\": \"2\",\n",
    "        \"name\": \"엄루다\",\n",
    "        \"gender\": \"남성\",\n",
    "        \"age\": \"22\",\n",
    "    },\n",
    "    {\n",
    "        \"_id\": \"bcf804f7-0452-4c31-B9d1-20cc2d38490b\",\n",
    "        \"index\": \"3\",\n",
    "        \"name\": \"형유환\",\n",
    "        \"gender\": \"남성\",\n",
    "        \"age\": \"31\",\n",
    "    },\n",
    "]\n",
    "\"\"\"\n",
    " [\n",
    "  {\n",
    "    \"gender\": \"여성\",\n",
    "    \"age\": \"43\"\n",
    "  },\n",
    "  {\n",
    "    \"gender\": \"남성\",\n",
    "    \"age\": \"22\"\n",
    "  },\n",
    "  {\n",
    "    \"gender\": \"남성\",\n",
    "    \"age\": \"31\"\n",
    "  }\n",
    "]\n",
    "\"\"\"\n",
    "# gender_list = list(map(lambda x: x[\"gender\"], data))\n",
    "# age_list = list(map(lambda x: x[\"age\"], data))\n",
    "result = list(map(lambda x: dict(gender=x[\"gender\"], age=x[\"age\"]), data))\n",
    "\n",
    "print(result)"
   ]
  },
  {
   "cell_type": "code",
   "execution_count": 17,
   "metadata": {},
   "outputs": [
    {
     "name": "stdout",
     "output_type": "stream",
     "text": [
      "[User(_id='fd7e9a0f-e77b-436a-B781-119b66033d49', index='1', name='나주헌', gender='여성', age='43'), User(_id='8ec6eabb-160a-41e4-A3de-cd33aff0b281', index='2', name='엄루다', gender='남성', age='22'), User(_id='bcf804f7-0452-4c31-B9d1-20cc2d38490b', index='3', name='형유환', gender='남성', age='31')]\n"
     ]
    }
   ],
   "source": [
    "from dataclasses import dataclass\n",
    "\n",
    "\n",
    "data = [\n",
    "    {\n",
    "        \"_id\": \"fd7e9a0f-e77b-436a-B781-119b66033d49\",\n",
    "        \"index\": \"1\",\n",
    "        \"name\": \"나주헌\",\n",
    "        \"gender\": \"여성\",\n",
    "        \"age\": \"43\",\n",
    "    },\n",
    "    {\n",
    "        \"_id\": \"8ec6eabb-160a-41e4-A3de-cd33aff0b281\",\n",
    "        \"index\": \"2\",\n",
    "        \"name\": \"엄루다\",\n",
    "        \"gender\": \"남성\",\n",
    "        \"age\": \"22\",\n",
    "    },\n",
    "    {\n",
    "        \"_id\": \"bcf804f7-0452-4c31-B9d1-20cc2d38490b\",\n",
    "        \"index\": \"3\",\n",
    "        \"name\": \"형유환\",\n",
    "        \"gender\": \"남성\",\n",
    "        \"age\": \"31\",\n",
    "    },\n",
    "]\n",
    "\n",
    "\n",
    "@dataclass\n",
    "class User:\n",
    "    _id: str\n",
    "    index: str\n",
    "    name: str\n",
    "    gender: str\n",
    "    age: str\n",
    "\n",
    "    # @staticmethod\n",
    "    # def fromDict(data: dict):\n",
    "    #     return User(\n",
    "    #         _id=data[\"_id\"],\n",
    "    #         index=data[\"index\"],\n",
    "    #         name=data[\"name\"],\n",
    "    #         gender=data[\"gender\"],\n",
    "    #         age=data[\"age\"],\n",
    "    #     )\n",
    "\n",
    "\n",
    "# result2 = [User.fromDict(item) for item in data]\n",
    "# print(result2)\n",
    "\n",
    "users = [User(**person) for person in data]\n",
    "print(users)"
   ]
  },
  {
   "cell_type": "code",
   "execution_count": 14,
   "metadata": {},
   "outputs": [
    {
     "name": "stdout",
     "output_type": "stream",
     "text": [
      "1500\n"
     ]
    }
   ],
   "source": [
    "# 문제 3\n",
    "\n",
    "\n",
    "class BankAccout:\n",
    "    def __init__(self, owner, balance):\n",
    "        self.owner = owner\n",
    "        self.balance = balance\n",
    "\n",
    "    def deposit(self, amount):\n",
    "        self.balance += amount\n",
    "\n",
    "    def withdraw(self, amount):\n",
    "        if self.balance < amount or self.balance == 0:\n",
    "            print(\"잔액이 부족합니다.\")\n",
    "            return\n",
    "        self.balance -= amount\n",
    "        return self.balance\n",
    "\n",
    "\n",
    "newBank = BankAccout(\"홍길동\", 1000)\n",
    "newBank.deposit(1000)\n",
    "cash = newBank.withdraw(500)\n",
    "print(cash)"
   ]
  },
  {
   "cell_type": "code",
   "execution_count": null,
   "metadata": {},
   "outputs": [],
   "source": []
  }
 ],
 "metadata": {
  "kernelspec": {
   "display_name": ".venv",
   "language": "python",
   "name": "python3"
  },
  "language_info": {
   "codemirror_mode": {
    "name": "ipython",
    "version": 3
   },
   "file_extension": ".py",
   "mimetype": "text/x-python",
   "name": "python",
   "nbconvert_exporter": "python",
   "pygments_lexer": "ipython3",
   "version": "3.11.5"
  },
  "orig_nbformat": 4
 },
 "nbformat": 4,
 "nbformat_minor": 2
}
