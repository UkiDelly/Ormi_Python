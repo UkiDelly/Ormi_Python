{
 "cells": [
  {
   "cell_type": "markdown",
   "metadata": {},
   "source": [
    "# 반복문\n"
   ]
  },
  {
   "cell_type": "code",
   "execution_count": 22,
   "metadata": {},
   "outputs": [
    {
     "name": "stdout",
     "output_type": "stream",
     "text": [
      "H\n",
      "e\n",
      "l\n",
      "l\n",
      "o\n"
     ]
    }
   ],
   "source": [
    "for x in \"Hello\":\n",
    "    print(x)"
   ]
  },
  {
   "cell_type": "code",
   "execution_count": 23,
   "metadata": {},
   "outputs": [
    {
     "name": "stdout",
     "output_type": "stream",
     "text": [
      "현재 값은 1입니다.\n",
      "현재 값은 2입니다.\n",
      "현재 값은 3입니다.\n",
      "현재 값은 4입니다.\n",
      "현재 값은 5입니다.\n"
     ]
    }
   ],
   "source": [
    "from typing import Literal\n",
    "\n",
    "\n",
    "for x in (1, 2, 3, 4, 5):\n",
    "    print(f\"현재 값은 {x}입니다.\")"
   ]
  },
  {
   "cell_type": "code",
   "execution_count": 24,
   "metadata": {},
   "outputs": [
    {
     "name": "stdout",
     "output_type": "stream",
     "text": [
      "h\n",
      "e\n",
      "l\n",
      "l\n"
     ]
    }
   ],
   "source": [
    "x: str = \"hello\"\n",
    "y = x.__iter__()\n",
    "print(y.__next__())\n",
    "print(y.__next__())\n",
    "print(y.__next__())\n",
    "print(y.__next__())"
   ]
  },
  {
   "cell_type": "code",
   "execution_count": 25,
   "metadata": {},
   "outputs": [
    {
     "name": "stdout",
     "output_type": "stream",
     "text": [
      "하나: one\n",
      "둘: two\n",
      "셋: three\n"
     ]
    }
   ],
   "source": [
    "data = {\"하나\": \"one\", \"둘\": \"two\", \"셋\": \"three\"}\n",
    "\n",
    "for key, value in data.items():\n",
    "    print(key + \":\", \" \" + value, sep=\"\")"
   ]
  },
  {
   "cell_type": "code",
   "execution_count": 26,
   "metadata": {},
   "outputs": [
    {
     "name": "stdout",
     "output_type": "stream",
     "text": [
      "0\n",
      "1\n",
      "2\n",
      "0\n",
      "1\n",
      "2\n",
      "3\n",
      "4\n",
      "0\n",
      "1\n",
      "2\n",
      "3\n",
      "4\n",
      "5\n",
      "6\n"
     ]
    }
   ],
   "source": [
    "for i in [range(3), range(5), range(7)]:\n",
    "    for j in i:\n",
    "        print(j)"
   ]
  },
  {
   "cell_type": "code",
   "execution_count": 27,
   "metadata": {},
   "outputs": [
    {
     "ename": "IndentationError",
     "evalue": "expected an indented block after 'for' statement on line 7 (835063591.py, line 10)",
     "output_type": "error",
     "traceback": [
      "\u001b[0;36m  Cell \u001b[0;32mIn[27], line 10\u001b[0;36m\u001b[0m\n\u001b[0;31m    print(result)\u001b[0m\n\u001b[0m                 ^\u001b[0m\n\u001b[0;31mIndentationError\u001b[0m\u001b[0;31m:\u001b[0m expected an indented block after 'for' statement on line 7\n"
     ]
    }
   ],
   "source": [
    "#  6이하 홀수들에 특이한 덧셈\n",
    "# 예 1 +3\n",
    "\n",
    "\n",
    "result = 0\n",
    "for i in ([range(2),range(4),range(6)]):\n",
    "    for j in i:\n",
    "        \n",
    "\n",
    "print(result)"
   ]
  },
  {
   "cell_type": "markdown",
   "metadata": {},
   "source": [
    "# 연습 문제\n"
   ]
  },
  {
   "cell_type": "code",
   "execution_count": null,
   "metadata": {},
   "outputs": [
    {
     "name": "stdout",
     "output_type": "stream",
     "text": [
      "1 x 1 = 1\n",
      "1 x 2 = 2\n",
      "1 x 3 = 3\n",
      "1 x 4 = 4\n",
      "1 x 5 = 5\n",
      "1 x 6 = 6\n",
      "1 x 7 = 7\n",
      "1 x 8 = 8\n",
      "1 x 9 = 9\n",
      "3 x 1 = 3\n",
      "3 x 2 = 6\n",
      "3 x 3 = 9\n",
      "3 x 4 = 12\n",
      "3 x 5 = 15\n",
      "3 x 6 = 18\n",
      "3 x 7 = 21\n",
      "3 x 8 = 24\n",
      "3 x 9 = 27\n",
      "5 x 1 = 5\n",
      "5 x 2 = 10\n",
      "5 x 3 = 15\n",
      "5 x 4 = 20\n",
      "5 x 5 = 25\n",
      "5 x 6 = 30\n",
      "5 x 7 = 35\n",
      "5 x 8 = 40\n",
      "5 x 9 = 45\n",
      "6 x 1 = 6\n",
      "6 x 2 = 12\n",
      "6 x 3 = 18\n",
      "6 x 4 = 24\n",
      "6 x 5 = 30\n",
      "6 x 6 = 36\n",
      "6 x 7 = 42\n",
      "6 x 8 = 48\n",
      "6 x 9 = 54\n",
      "7 x 1 = 7\n",
      "7 x 2 = 14\n",
      "7 x 3 = 21\n",
      "7 x 4 = 28\n",
      "7 x 5 = 35\n",
      "7 x 6 = 42\n",
      "7 x 7 = 49\n",
      "7 x 8 = 56\n",
      "7 x 9 = 63\n",
      "8 x 1 = 8\n",
      "8 x 2 = 16\n",
      "8 x 3 = 24\n",
      "8 x 4 = 32\n",
      "8 x 5 = 40\n",
      "8 x 6 = 48\n",
      "8 x 7 = 56\n",
      "8 x 8 = 64\n",
      "8 x 9 = 72\n"
     ]
    }
   ],
   "source": [
    "s = \"135678\"\n",
    "# 이때 구구단을 출력하는 코드\n",
    "for i in s:\n",
    "    for k in range(1, 10):\n",
    "        print(f\"{i} x {k} = {int(i) * k}\")"
   ]
  },
  {
   "cell_type": "code",
   "execution_count": 2,
   "metadata": {},
   "outputs": [
    {
     "name": "stdout",
     "output_type": "stream",
     "text": [
      "2 x 3 = 6\n",
      "2 x 4 = 8\n",
      "2 x 7 = 14\n",
      "3 x 3 = 9\n",
      "3 x 4 = 12\n",
      "3 x 7 = 21\n",
      "6 x 3 = 18\n",
      "6 x 4 = 24\n",
      "6 x 7 = 42\n"
     ]
    }
   ],
   "source": [
    "l = [2, 3, 6]\n",
    "for i in l:\n",
    "    for j in [i + 1 for i in l]:\n",
    "        print(f\"{i} x {j} = {i * j}\")"
   ]
  },
  {
   "cell_type": "code",
   "execution_count": 3,
   "metadata": {},
   "outputs": [
    {
     "ename": "NameError",
     "evalue": "name '__file__' is not defined",
     "output_type": "error",
     "traceback": [
      "\u001b[0;31m---------------------------------------------------------------------------\u001b[0m",
      "\u001b[0;31mNameError\u001b[0m                                 Traceback (most recent call last)",
      "\u001b[1;32m/Users/daehyeon/Documents/coding_files/Boot_Camp/Ormi/python/20230914/반복문.ipynb 셀 11\u001b[0m line \u001b[0;36m7\n\u001b[1;32m      <a href='vscode-notebook-cell:/Users/daehyeon/Documents/coding_files/Boot_Camp/Ormi/python/20230914/%EB%B0%98%EB%B3%B5%EB%AC%B8.ipynb#X14sZmlsZQ%3D%3D?line=4'>5</a>\u001b[0m \u001b[39mmatch\u001b[39;00m userInput:\n\u001b[1;32m      <a href='vscode-notebook-cell:/Users/daehyeon/Documents/coding_files/Boot_Camp/Ormi/python/20230914/%EB%B0%98%EB%B3%B5%EB%AC%B8.ipynb#X14sZmlsZQ%3D%3D?line=5'>6</a>\u001b[0m     \u001b[39mcase\u001b[39;00m \u001b[39m\"\u001b[39m\u001b[39mpwd\u001b[39m\u001b[39m\"\u001b[39m:\n\u001b[0;32m----> <a href='vscode-notebook-cell:/Users/daehyeon/Documents/coding_files/Boot_Camp/Ormi/python/20230914/%EB%B0%98%EB%B3%B5%EB%AC%B8.ipynb#X14sZmlsZQ%3D%3D?line=6'>7</a>\u001b[0m         \u001b[39mprint\u001b[39m(\u001b[39m\"\u001b[39m\u001b[39m/\u001b[39m\u001b[39m\"\u001b[39m\u001b[39m.\u001b[39mjoin(\u001b[39m__file__\u001b[39;49m\u001b[39m.\u001b[39msplit(\u001b[39m\"\u001b[39m\u001b[39m\\\\\u001b[39;00m\u001b[39m\"\u001b[39m[:\u001b[39m-\u001b[39m\u001b[39m1\u001b[39m])))\n\u001b[1;32m      <a href='vscode-notebook-cell:/Users/daehyeon/Documents/coding_files/Boot_Camp/Ormi/python/20230914/%EB%B0%98%EB%B3%B5%EB%AC%B8.ipynb#X14sZmlsZQ%3D%3D?line=7'>8</a>\u001b[0m     \u001b[39mcase\u001b[39;00m \u001b[39m\"\u001b[39m\u001b[39mdir\u001b[39m\u001b[39m\"\u001b[39m \u001b[39m|\u001b[39m \u001b[39m\"\u001b[39m\u001b[39mls\u001b[39m\u001b[39m\"\u001b[39m:\n\u001b[1;32m      <a href='vscode-notebook-cell:/Users/daehyeon/Documents/coding_files/Boot_Camp/Ormi/python/20230914/%EB%B0%98%EB%B3%B5%EB%AC%B8.ipynb#X14sZmlsZQ%3D%3D?line=8'>9</a>\u001b[0m         \u001b[39mprint\u001b[39m(os\u001b[39m.\u001b[39mlistdir(os\u001b[39m.\u001b[39mgetcwd()))\n",
      "\u001b[0;31mNameError\u001b[0m: name '__file__' is not defined"
     ]
    }
   ],
   "source": [
    "import os\n",
    "\n",
    "while True:\n",
    "    userInput = input(\">\")\n",
    "    match userInput:\n",
    "        case \"pwd\":\n",
    "            print(\"/\".join(__file__.split(\"\\\\\"[:-1])))\n",
    "        case \"dir\" | \"ls\":\n",
    "            print(os.listdir(os.getcwd()))\n",
    "        case \"exit\":\n",
    "            break"
   ]
  },
  {
   "cell_type": "markdown",
   "metadata": {},
   "source": [
    "### 왈러스 연산자 ( := )\n"
   ]
  },
  {
   "cell_type": "code",
   "execution_count": 6,
   "metadata": {},
   "outputs": [
    {
     "name": "stdout",
     "output_type": "stream",
     "text": [
      "6\n",
      "4\n",
      "1\n",
      "6\n",
      "6\n",
      "3\n",
      "5\n",
      "0\n"
     ]
    }
   ],
   "source": [
    "import random\n",
    "\n",
    "while (x := random.randint(0, 10)) != 7:\n",
    "    print(x)"
   ]
  },
  {
   "cell_type": "code",
   "execution_count": 7,
   "metadata": {},
   "outputs": [
    {
     "name": "stdout",
     "output_type": "stream",
     "text": [
      "0\n",
      "1\n",
      "2\n",
      "3\n",
      "4\n",
      "end\n"
     ]
    }
   ],
   "source": [
    "for i in range(5):\n",
    "    print(i)\n",
    "else:\n",
    "    print(\"end\")"
   ]
  },
  {
   "cell_type": "markdown",
   "metadata": {},
   "source": [
    "# 연습 문제\n"
   ]
  },
  {
   "cell_type": "code",
   "execution_count": 12,
   "metadata": {},
   "outputs": [
    {
     "name": "stdout",
     "output_type": "stream",
     "text": [
      "36.0\n",
      "2 3\n"
     ]
    }
   ],
   "source": [
    "from dataclasses import dataclass\n",
    "from typing import Any\n",
    "\n",
    "\n",
    "@dataclass\n",
    "class Person:\n",
    "    id: str\n",
    "    index: int\n",
    "    name: str\n",
    "    age: int\n",
    "    email: str\n",
    "    phone: str\n",
    "    country: str\n",
    "    address: str\n",
    "    job: str\n",
    "\n",
    "    @staticmethod\n",
    "    def fromDict(self, data: dict[Any, Any]) -> \"Person\":\n",
    "        return Person(\n",
    "            id=data[\"id\"],\n",
    "            index=data[\"index\"],\n",
    "            name=data[\"name\"],\n",
    "            age=data[\"age\"],\n",
    "            email=data[\"email\"],\n",
    "            phone=data[\"phone\"],\n",
    "            country=data[\"country\"],\n",
    "            address=data[\"address\"],\n",
    "            job=data[\"job\"],\n",
    "        )\n",
    "\n",
    "\n",
    "datas = [\n",
    "    {\n",
    "        \"_id\": \"287b44e4-d6d8-4a64-Bdf4-bfc50fedebd8\",\n",
    "        \"index\": \"1\",\n",
    "        \"name\": \"모송이\",\n",
    "        \"email\": \"user-s6nfwx3@augue.org\",\n",
    "        \"phone\": \"010-7996-9978\",\n",
    "        \"country\": \"네덜란드\",\n",
    "        \"address\": \"여의하류로 79-9\",\n",
    "        \"job\": \"경찰관\",\n",
    "        \"gender\": \"남성\",\n",
    "        \"age\": \"32\",\n",
    "    },\n",
    "    {\n",
    "        \"_id\": \"e3a93069-7d76-40a1-C25d-17d0057c1cb7\",\n",
    "        \"index\": \"2\",\n",
    "        \"name\": \"반시영\",\n",
    "        \"email\": \"user-qqhgzek@rutrum.org\",\n",
    "        \"phone\": \"010-3769-4878\",\n",
    "        \"country\": \"몽골\",\n",
    "        \"address\": \"논현로 97-7\",\n",
    "        \"job\": \"화가\",\n",
    "        \"gender\": \"남성\",\n",
    "        \"age\": \"40\",\n",
    "    },\n",
    "    {\n",
    "        \"_id\": \"633df946-fe2e-4cd8-Cc9e-ad604731b7a3\",\n",
    "        \"index\": \"3\",\n",
    "        \"name\": \"만예희\",\n",
    "        \"email\": \"user-hpz3sp1@eiusmod.com\",\n",
    "        \"phone\": \"010-7668-3707\",\n",
    "        \"country\": \"베냉\",\n",
    "        \"address\": \"용두동 31-1\",\n",
    "        \"job\": \"상담전문가\",\n",
    "        \"gender\": \"여성\",\n",
    "        \"age\": \"26\",\n",
    "    },\n",
    "    {\n",
    "        \"_id\": \"630250ed-e0ca-459c-C413-b29d0ad80df1\",\n",
    "        \"index\": \"4\",\n",
    "        \"name\": \"음주연\",\n",
    "        \"email\": \"user-sg2q7mb@fames.com\",\n",
    "        \"phone\": \"010-3606-8303\",\n",
    "        \"country\": \"뉴칼레도니아\",\n",
    "        \"address\": \"독산로 66-9\",\n",
    "        \"job\": \"일러스트레이터\",\n",
    "        \"gender\": \"여성\",\n",
    "        \"age\": \"41\",\n",
    "    },\n",
    "    {\n",
    "        \"_id\": \"6d7300f2-beca-48ae-B230-348405804838\",\n",
    "        \"index\": \"5\",\n",
    "        \"name\": \"등혜빈\",\n",
    "        \"email\": \"user-mwbyxqr@dictum.biz\",\n",
    "        \"phone\": \"010-7210-9218\",\n",
    "        \"country\": \"남수단\",\n",
    "        \"address\": \"잠원로 2-6\",\n",
    "        \"job\": \"정보보호전문가\",\n",
    "        \"gender\": \"여성\",\n",
    "        \"age\": \"41\",\n",
    "    },\n",
    "]\n",
    "\n",
    "\n",
    "# 문제 1번: 평균 나이를 출력\n",
    "result1 = list(map(lambda data: int(data[\"age\"]), datas))\n",
    "print(sum(result1) / len(result1))\n",
    "\n",
    "\n",
    "# 문제 2번: 남녀 성비\n",
    "from collections import Counter\n",
    "\n",
    "result2 = [data[\"gender\"] for data in datas]\n",
    "total = len(result2)\n",
    "man, woman = result2.count(\"남성\"), result2.count(\"여성\")\n",
    "\n",
    "print(man, woman)"
   ]
  }
 ],
 "metadata": {
  "kernelspec": {
   "display_name": ".venv",
   "language": "python",
   "name": "python3"
  },
  "language_info": {
   "codemirror_mode": {
    "name": "ipython",
    "version": 3
   },
   "file_extension": ".py",
   "mimetype": "text/x-python",
   "name": "python",
   "nbconvert_exporter": "python",
   "pygments_lexer": "ipython3",
   "version": "3.11.5"
  },
  "orig_nbformat": 4
 },
 "nbformat": 4,
 "nbformat_minor": 2
}
