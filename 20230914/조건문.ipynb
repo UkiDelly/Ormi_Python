{
 "cells": [
  {
   "cell_type": "markdown",
   "metadata": {},
   "source": [
    "# 조건문\n"
   ]
  },
  {
   "cell_type": "code",
   "execution_count": null,
   "metadata": {},
   "outputs": [],
   "source": [
    "x = -1\n",
    "assert x > 10, \"x는 양수여야합니다.\""
   ]
  },
  {
   "cell_type": "code",
   "execution_count": 7,
   "metadata": {},
   "outputs": [
    {
     "name": "stdout",
     "output_type": "stream",
     "text": [
      "mom : i'm happy!\n",
      "100000\n"
     ]
    }
   ],
   "source": [
    "score = 81\n",
    "money = 0\n",
    "\n",
    "if score >= 90:\n",
    "    print(\"mom : i'm so happy!\")\n",
    "    money += 1000000\n",
    "elif score >= 80:\n",
    "    print(\"mom : i'm happy!\")\n",
    "    money += 100000\n",
    "elif score >= 70 and score < 80:\n",
    "    print(\"mom : i'm so...!\")\n",
    "    money += 10000\n",
    "elif score >= 60 and score < 70:\n",
    "    print(\"mom : i'm so...!\")\n",
    "    money += 1000\n",
    "else:\n",
    "    print(\"mom : i'm...!\")\n",
    "print(money)"
   ]
  },
  {
   "cell_type": "code",
   "execution_count": 6,
   "metadata": {},
   "outputs": [
    {
     "name": "stdout",
     "output_type": "stream",
     "text": [
      "100000\n"
     ]
    }
   ],
   "source": [
    "score = 81\n",
    "money = 0\n",
    "\n",
    "if score < 60:\n",
    "    print(\"mom : i'm...!\")\n",
    "else:\n",
    "    for s_score, a_money in zip([60, 70, 80, 90], [1000, 10000, 100000, 1000000]):\n",
    "        if score >= s_score:\n",
    "            money = a_money\n",
    "\n",
    "\n",
    "print(money)"
   ]
  },
  {
   "cell_type": "code",
   "execution_count": 9,
   "metadata": {},
   "outputs": [
    {
     "name": "stdout",
     "output_type": "stream",
     "text": [
      "영화 시청\n"
     ]
    }
   ],
   "source": [
    "# if를 중첩해서 사용하기\n",
    "movie = {\"영화\": \"무빙\", \"장르\": \"SF\", \"서비스\": \"디즈니\", \"비용\": 15000, \"평점\": 4.9}\n",
    "filter = [\"무빙\", \"SF\", \"디즈니\", 15000, 4.9]\n",
    "result = all([movie.get(key) in filter for key in movie])\n",
    "print(\"영화 시청\") if result else None"
   ]
  },
  {
   "cell_type": "code",
   "execution_count": null,
   "metadata": {},
   "outputs": [],
   "source": [
    "x = 0\n",
    "\n",
    "match x:\n",
    "    case 0:\n",
    "        print(int)\n",
    "        pass\n",
    "    case 1:\n",
    "        print(int)\n",
    "    case _:\n",
    "        print(None)"
   ]
  },
  {
   "cell_type": "code",
   "execution_count": 12,
   "metadata": {},
   "outputs": [],
   "source": [
    "#\n",
    "def attack(attack_type: str, damage: int) -> None:\n",
    "    match attack_type:\n",
    "        case \"물리공격\" | \"마법 공격\":\n",
    "            print(f\"{attack_type}: {damage}의 데미지를 입혔습니다.\")\n",
    "\n",
    "        case \"정신공격\":\n",
    "            print(f\"정신공격: {damage}만큼 상대방이 혼란을 느낍니다.\")\n",
    "    return\n",
    "\n",
    "\n",
    "attack(\"마법공격\", 100)"
   ]
  }
 ],
 "metadata": {
  "kernelspec": {
   "display_name": ".venv",
   "language": "python",
   "name": "python3"
  },
  "language_info": {
   "codemirror_mode": {
    "name": "ipython",
    "version": 3
   },
   "file_extension": ".py",
   "mimetype": "text/x-python",
   "name": "python",
   "nbconvert_exporter": "python",
   "pygments_lexer": "ipython3",
   "version": "3.11.5"
  },
  "orig_nbformat": 4
 },
 "nbformat": 4,
 "nbformat_minor": 2
}
