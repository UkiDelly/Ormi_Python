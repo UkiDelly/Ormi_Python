{
 "cells": [
  {
   "cell_type": "code",
   "execution_count": 7,
   "metadata": {},
   "outputs": [
    {
     "name": "stdout",
     "output_type": "stream",
     "text": [
      "D\n",
      "차가 출발했습니다.\n",
      "P\n",
      "차가 멈췄습니다.\n"
     ]
    }
   ],
   "source": [
    "class Car:\n",
    "    max_speed: int = 300\n",
    "    max_people: int = 5\n",
    "    car_gear: list[str] = [\"P\", \"D\", \"R\", \"N\"]\n",
    "    name: str\n",
    "\n",
    "    def __init__(self, name: str):\n",
    "        self.name = name\n",
    "\n",
    "    @property\n",
    "    def current_gear(self):\n",
    "        return self.__current_gear\n",
    "\n",
    "    def start(self):\n",
    "        self.__current_gear = \"D\"\n",
    "        print(self.current_gear)\n",
    "        print(\"차가 출발했습니다.\")\n",
    "\n",
    "    def stop(self):\n",
    "        self.__current_gear = \"P\"\n",
    "        print(self.current_gear)\n",
    "        print(\"차가 멈췄습니다.\")\n",
    "\n",
    "\n",
    "modelx = Car(\"Model X\")\n",
    "modely = Car(\"Model Y\")\n",
    "model3 = Car(\"Model 3\")\n",
    "\n",
    "model3.start()\n",
    "model3.stop()\n",
    "\n",
    "\n",
    "class Person:\n",
    "    name: str\n",
    "\n",
    "    def __init__(self, name: str) -> None:\n",
    "        self.name = name"
   ]
  },
  {
   "cell_type": "code",
   "execution_count": 11,
   "metadata": {},
   "outputs": [
    {
     "data": {
      "text/plain": [
       "<__main__.Car at 0x10670df90>"
      ]
     },
     "execution_count": 11,
     "metadata": {},
     "output_type": "execute_result"
    }
   ],
   "source": [
    "class Car:\n",
    "    max_speed = 300\n",
    "\n",
    "    def __init__(self, name):\n",
    "        self.name = name\n",
    "\n",
    "    def start(self):\n",
    "        print(\"차가 출발합니다!\")\n",
    "\n",
    "\n",
    "modelx = Car(\"Tesla Model X\")\n",
    "modelx.name\n",
    "\n",
    "modelx.hello = \"hello world\"\n",
    "modelx.hello\n",
    "\n",
    "modelx"
   ]
  },
  {
   "cell_type": "code",
   "execution_count": 19,
   "metadata": {},
   "outputs": [
    {
     "name": "stdout",
     "output_type": "stream",
     "text": [
      "14.142135623730951\n"
     ]
    }
   ],
   "source": [
    "class Point(object):\n",
    "    def __init__(self, x: int, y: int) -> None:\n",
    "        self.x = x\n",
    "        self.y = y\n",
    "\n",
    "    def __add__(self, other: \"Point\") -> \"Point\":\n",
    "        return Point(self.x + other.x, self.y + other.y)\n",
    "\n",
    "    def __str__(self) -> str:\n",
    "        return f\"Point(x={self.x}, y={self.y})\"\n",
    "\n",
    "    def distance(self, other: \"Point\") -> float:\n",
    "        dx = other.x - self.x\n",
    "        dy = other.y - self.y\n",
    "        return (dx**2 + dy**2) ** 0.5\n",
    "\n",
    "\n",
    "dot1 = Point(10, 20)\n",
    "dot2 = Point(20, 30)\n",
    "\n",
    "dot3 = dot1.distance(dot2)\n",
    "print(dot3)"
   ]
  },
  {
   "cell_type": "code",
   "execution_count": 20,
   "metadata": {},
   "outputs": [
    {
     "data": {
      "text/plain": [
       "[30, 50, 70]"
      ]
     },
     "execution_count": 20,
     "metadata": {},
     "output_type": "execute_result"
    }
   ],
   "source": [
    "class Matrix:\n",
    "    def __init__(self, value: list[int]) -> None:\n",
    "        self.value = value\n",
    "\n",
    "    def __add__(self, other: \"Matrix\"):\n",
    "        result = []\n",
    "        for i in range(len(self.value)):\n",
    "            result.append(self.value[i] + other.value[i])\n",
    "        return result\n",
    "\n",
    "    def __mul__(self, other: int):\n",
    "        if not isinstance(other, int):\n",
    "            raise TypeError\n",
    "        \n",
    "\n",
    "\n",
    "m1 = Matrix([10, 20, 30])\n",
    "m2 = Matrix([20, 30, 40])\n",
    "m1 + m2"
   ]
  }
 ],
 "metadata": {
  "kernelspec": {
   "display_name": ".venv",
   "language": "python",
   "name": "python3"
  },
  "language_info": {
   "codemirror_mode": {
    "name": "ipython",
    "version": 3
   },
   "file_extension": ".py",
   "mimetype": "text/x-python",
   "name": "python",
   "nbconvert_exporter": "python",
   "pygments_lexer": "ipython3",
   "version": "3.11.5"
  },
  "orig_nbformat": 4
 },
 "nbformat": 4,
 "nbformat_minor": 2
}
