{
 "cells": [
  {
   "cell_type": "markdown",
   "metadata": {},
   "source": [
    "# 회문\n",
    "\n",
    "회문은 글자의 앞뒤가 같은 문자열을 의미한다.\n",
    "큐와 스택을 이용한 회문 여부 판별\n"
   ]
  },
  {
   "cell_type": "code",
   "execution_count": null,
   "metadata": {},
   "outputs": [],
   "source": [
    "# 회문은 글자의 앞 뒤가 같은 문자열\n",
    "# 큐와 스택을 이용한 회문여부 판별\n",
    "def palindrome(string: str):\n",
    "    queue = []\n",
    "    stack = []\n",
    "\n",
    "    for s in string:\n",
    "        if s.isalpha():\n",
    "            queue.append(s.lower())\n",
    "            stack.append(s.lower())\n",
    "\n",
    "    while queue:\n",
    "        if queue.pop(0) != stack.pop():\n",
    "            return False\n",
    "\n",
    "    return True\n",
    "\n",
    "\n",
    "palindrome(\"hello world\")\n",
    "palindrome(\"hello\")\n",
    "palindrome(\"heleh\")\n",
    "palindrome(\"오디오\")"
   ]
  },
  {
   "cell_type": "code",
   "execution_count": 3,
   "metadata": {},
   "outputs": [
    {
     "name": "stdout",
     "output_type": "stream",
     "text": [
      "[10]\n",
      "[10, 20]\n",
      "[10, 20, 30]\n"
     ]
    }
   ],
   "source": [
    "def f(a: int = 10, b: list[int] = []):\n",
    "    b.append(a)\n",
    "    print(b)\n",
    "\n",
    "\n",
    "f(10)\n",
    "f(20)\n",
    "f(30)"
   ]
  },
  {
   "cell_type": "code",
   "execution_count": 4,
   "metadata": {},
   "outputs": [
    {
     "data": {
      "text/plain": [
       "120"
      ]
     },
     "execution_count": 4,
     "metadata": {},
     "output_type": "execute_result"
    }
   ],
   "source": [
    "# 재귀를 사용해서 팩토리얼\n",
    "def factorial(number: int):\n",
    "    if number > 1:\n",
    "        return number * factorial(number - 1)\n",
    "    return 1\n",
    "\n",
    "\n",
    "factorial(5)"
   ]
  },
  {
   "cell_type": "code",
   "execution_count": 5,
   "metadata": {},
   "outputs": [
    {
     "data": {
      "text/plain": [
       "120"
      ]
     },
     "execution_count": 5,
     "metadata": {},
     "output_type": "execute_result"
    }
   ],
   "source": [
    "# 반복문을 사용해서 팩토리얼\n",
    "def factorial(number):\n",
    "    result = 1\n",
    "    for i in range(1, number + 1):\n",
    "        result *= i\n",
    "\n",
    "    return result\n",
    "\n",
    "\n",
    "factorial(5)"
   ]
  }
 ],
 "metadata": {
  "kernelspec": {
   "display_name": ".venv",
   "language": "python",
   "name": "python3"
  },
  "language_info": {
   "codemirror_mode": {
    "name": "ipython",
    "version": 3
   },
   "file_extension": ".py",
   "mimetype": "text/x-python",
   "name": "python",
   "nbconvert_exporter": "python",
   "pygments_lexer": "ipython3",
   "version": "3.11.5"
  },
  "orig_nbformat": 4
 },
 "nbformat": 4,
 "nbformat_minor": 2
}
