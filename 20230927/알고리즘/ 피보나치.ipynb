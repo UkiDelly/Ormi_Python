{
 "cells": [
  {
   "cell_type": "code",
   "execution_count": 1,
   "metadata": {},
   "outputs": [
    {
     "data": {
      "text/plain": [
       "832040"
      ]
     },
     "execution_count": 1,
     "metadata": {},
     "output_type": "execute_result"
    }
   ],
   "source": [
    "# 피보나치 재귀 풀이\n",
    "def fib(num):\n",
    "    if num == 0:\n",
    "        return 0\n",
    "    if num == 1 or num == 2:\n",
    "        return 1\n",
    "    else:\n",
    "        return fib(num - 1) + fib(num - 2)\n",
    "\n",
    "\n",
    "fib(30)"
   ]
  },
  {
   "cell_type": "code",
   "execution_count": null,
   "metadata": {},
   "outputs": [],
   "source": [
    "# 피보나치 재귀 없이 풀이\n",
    "def fib(num: int):\n",
    "    result = 0\n",
    "    curr, next = 0, 1\n",
    "    for _ in range(len(num)):\n",
    "        curr, next = next, next + 1"
   ]
  },
  {
   "cell_type": "code",
   "execution_count": null,
   "metadata": {},
   "outputs": [],
   "source": [
    "from functools import lru_cache\n",
    "\n",
    "@lru_cache(maxsize=None)\n",
    "def fib(num:int):\n",
    "    if num == 0:\n",
    "        return 0\n",
    "    if num == 1 or num == 2:\n",
    "        "
   ]
  }
 ],
 "metadata": {
  "kernelspec": {
   "display_name": ".venv",
   "language": "python",
   "name": "python3"
  },
  "language_info": {
   "codemirror_mode": {
    "name": "ipython",
    "version": 3
   },
   "file_extension": ".py",
   "mimetype": "text/x-python",
   "name": "python",
   "nbconvert_exporter": "python",
   "pygments_lexer": "ipython3",
   "version": "3.11.5"
  },
  "orig_nbformat": 4
 },
 "nbformat": 4,
 "nbformat_minor": 2
}
