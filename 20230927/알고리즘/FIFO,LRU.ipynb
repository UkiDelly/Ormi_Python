{
 "cells": [
  {
   "cell_type": "markdown",
   "metadata": {},
   "source": [
    "# FIFO\n",
    "\n",
    "First In First Out"
   ]
  },
  {
   "cell_type": "code",
   "execution_count": null,
   "metadata": {},
   "outputs": [],
   "source": [
    "# FIFO\n",
    "# 순서 : 0, 4, 6, 5, 4, 7, 8\n",
    "\n",
    "# [0] # 5\n",
    "# [0, 4] # 5\n",
    "# [0, 4, 6] # 5\n",
    "# [4, 6, 5] # 5\n",
    "# [4, 6, 5] # 1\n",
    "# [6, 5, 7] # 5\n",
    "# [6, 5, 8] # 5\n",
    "\n",
    "순서 = [0, 4, 6, 5, 4, 7, 8]\n",
    "c = []\n",
    "time = 0\n",
    "\n",
    "for i in 순서:\n",
    "    if i not in c:\n",
    "        time += 5\n",
    "        c.append(i)\n",
    "    else:\n",
    "        time += 1\n",
    "    if len(c) > 3:\n",
    "        c.pop(0)\n",
    "    print(c)\n",
    "\n",
    "time"
   ]
  },
  {
   "cell_type": "markdown",
   "metadata": {},
   "source": [
    "# LRU\n",
    "오랫동안 사용하지 않은 데이터가 먼저 사라진다."
   ]
  },
  {
   "cell_type": "code",
   "execution_count": null,
   "metadata": {},
   "outputs": [],
   "source": [
    "# LRU\n",
    "# 순서 : 0, 4, 6, 5, 4, 7, 8\n",
    "\n",
    "# [0] # 5\n",
    "# [0, 4] # 5\n",
    "# [0, 4, 6] # 5\n",
    "# [4, 6, 5] # 5\n",
    "# [6, 5, 4] # 1\n",
    "# [6, 5, 7] # 5\n",
    "# [6, 5, 8] # 5\n",
    "\n",
    "순서 = [0, 4, 6, 5, 4, 7, 8]\n",
    "c = []\n",
    "time = 0\n",
    "\n",
    "for i in 순서:\n",
    "    if i not in c:\n",
    "        time += 5\n",
    "        c.append(i)\n",
    "    else:\n",
    "        c.remove(i)\n",
    "        c.append(i)\n",
    "        time += 1\n",
    "    if len(c) > 3:\n",
    "        c.pop(0)\n",
    "    print(c)\n",
    "\n",
    "time"
   ]
  }
 ],
 "metadata": {
  "language_info": {
   "name": "python"
  },
  "orig_nbformat": 4
 },
 "nbformat": 4,
 "nbformat_minor": 2
}
