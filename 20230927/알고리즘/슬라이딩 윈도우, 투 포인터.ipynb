{
 "cells": [
  {
   "cell_type": "markdown",
   "metadata": {},
   "source": [
    "# 슬라이딩 윈도우\n",
    "\n",
    "고정된 사이즈의 윈도우가 이동하면서 윈도우 내 데이터를 연산하여 문제 해결\n"
   ]
  },
  {
   "cell_type": "code",
   "execution_count": 3,
   "metadata": {},
   "outputs": [
    {
     "name": "stdout",
     "output_type": "stream",
     "text": [
      "[2, 6, 2]\n"
     ]
    }
   ],
   "source": [
    "data = [1, 5, 3, 87, 3, 89, 2, 6, 2, 8, 2, 6, 1, 83, 9, 3]\n",
    "\n",
    "for i in range(len(data) - 3):\n",
    "    if sum(data[i : i + 3]) == 10:\n",
    "        print(data[i : i + 3])"
   ]
  },
  {
   "cell_type": "markdown",
   "metadata": {},
   "source": [
    "# 투 포인터"
   ]
  },
  {
   "cell_type": "code",
   "execution_count": 4,
   "metadata": {},
   "outputs": [
    {
     "data": {
      "text/plain": [
       "[[0, 2], [2, 3], [3, 4], [4, 5], [7, 8], [8, 11]]"
      ]
     },
     "execution_count": 4,
     "metadata": {},
     "output_type": "execute_result"
    }
   ],
   "source": [
    "def solution(데이터, 연속된합):\n",
    "\n",
    "    startPointer = 0\n",
    "    endPointer = 0\n",
    "    tempSum = 0\n",
    "\n",
    "    길이 = len(데이터)\n",
    "    result = []\n",
    "\n",
    "    for startPointer in range(길이):\n",
    "        while tempSum < 연속된합 and endPointer < 길이:\n",
    "            tempSum += 데이터[endPointer]\n",
    "            endPointer += 1\n",
    "        if tempSum == 연속된합:\n",
    "            result.append([startPointer, endPointer-1])\n",
    "        tempSum -= 데이터[startPointer]\n",
    "    return result\n",
    "\n",
    "solution([1, 5, 4, 6, 4, 6, 7, 6, 4, 3, 1, 2], 10)"
   ]
  }
 ],
 "metadata": {
  "kernelspec": {
   "display_name": ".venv",
   "language": "python",
   "name": "python3"
  },
  "language_info": {
   "codemirror_mode": {
    "name": "ipython",
    "version": 3
   },
   "file_extension": ".py",
   "mimetype": "text/x-python",
   "name": "python",
   "nbconvert_exporter": "python",
   "pygments_lexer": "ipython3",
   "version": "3.11.5"
  },
  "orig_nbformat": 4
 },
 "nbformat": 4,
 "nbformat_minor": 2
}
