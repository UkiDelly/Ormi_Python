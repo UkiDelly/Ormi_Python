{
 "cells": [
  {
   "cell_type": "markdown",
   "metadata": {},
   "source": [
    "# 클래스 심화\n"
   ]
  },
  {
   "cell_type": "code",
   "execution_count": 6,
   "metadata": {},
   "outputs": [
    {
     "name": "stdout",
     "output_type": "stream",
     "text": [
      "0\n",
      "1\n"
     ]
    }
   ],
   "source": [
    "# 클래스 메소트\n",
    "class MyClass:\n",
    "    count = 0\n",
    "\n",
    "    @classmethod\n",
    "    def increment_count(cls):\n",
    "        cls.count += 1\n",
    "\n",
    "    @staticmethod\n",
    "    def print_count():\n",
    "        print(MyClass.count)\n",
    "\n",
    "\n",
    "MyClass.print_count()\n",
    "MyClass.increment_count()\n",
    "MyClass.print_count()"
   ]
  },
  {
   "cell_type": "code",
   "execution_count": 26,
   "metadata": {},
   "outputs": [
    {
     "name": "stdout",
     "output_type": "stream",
     "text": [
      "3.125\n",
      "총학점 120학점의 3.125으로 졸업하셨습니다\n",
      "총학점 60학점의 3.125으로 졸업하셨습니다\n"
     ]
    },
    {
     "data": {
      "text/plain": [
       "'학사경고'"
      ]
     },
     "execution_count": 26,
     "metadata": {},
     "output_type": "execute_result"
    }
   ],
   "source": [
    "from typing import Final\n",
    "\n",
    "\n",
    "class 학사정보시스템:\n",
    "    __학점총점: int = 120\n",
    "\n",
    "    def __init__(self) -> None:\n",
    "        self.학기점수: list[int] = []\n",
    "\n",
    "    def 학점추가(self, 이번학기점수: int) -> None:\n",
    "        self.학기점수.append(이번학기점수)\n",
    "\n",
    "    def 학점평균(self) -> float:\n",
    "        return sum(self.학기점수) / len(self.학기점수)\n",
    "\n",
    "    def 졸업장출력(self):\n",
    "        return f\"총학점 {self.__학점총점}학점의 {self.학점평균()}으로 졸업하셨습니다\"\n",
    "\n",
    "    @staticmethod\n",
    "    def 학사경고(학기점수: int):\n",
    "        return \"학사경고\" if 학기점수 - 1.5 < 0 else \"학사 경고 아님\"\n",
    "\n",
    "    @classmethod\n",
    "    def 총학점변경(cls, new: int):\n",
    "        if not isinstance(new, int):\n",
    "            raise TypeError(\"정수형으로 입력해주세요\")\n",
    "        cls.__학점총점 = new\n",
    "\n",
    "\n",
    "피카츄 = 학사정보시스템()\n",
    "꼬부기 = 학사정보시스템()\n",
    "\n",
    "피카츄.학점추가(3.2)\n",
    "피카츄.학점추가(3.5)\n",
    "피카츄.학점추가(3.0)\n",
    "피카츄.학점추가(2.8)\n",
    "\n",
    "\n",
    "print(피카츄.학점평균())\n",
    "print(피카츄.졸업장출력())\n",
    "\n",
    "# 중간에 총학점이 60으로 변경되어 조기 졸업할수 있게 되었다\n",
    "학사정보시스템.총학점변경(60)\n",
    "print(피카츄.졸업장출력())\n",
    "\n",
    "\n",
    "학사정보시스템.학사경고(1.4)"
   ]
  },
  {
   "cell_type": "markdown",
   "metadata": {},
   "source": [
    "## Abstract, abstract method\n"
   ]
  },
  {
   "cell_type": "code",
   "execution_count": 31,
   "metadata": {},
   "outputs": [
    {
     "ename": "TypeError",
     "evalue": "Can't instantiate abstract class Hero with abstract methods 밥먹기, 숨쉬기",
     "output_type": "error",
     "traceback": [
      "\u001b[0;31m---------------------------------------------------------------------------\u001b[0m",
      "\u001b[0;31mTypeError\u001b[0m                                 Traceback (most recent call last)",
      "\u001b[1;32m/Users/daehyeon/Documents/coding_files/Boot_Camp/Ormi/python/20230919/클래스 심화.ipynb 셀 5\u001b[0m line \u001b[0;36m2\n\u001b[1;32m     <a href='vscode-notebook-cell:/Users/daehyeon/Documents/coding_files/Boot_Camp/Ormi/python/20230919/%ED%81%B4%EB%9E%98%EC%8A%A4%20%EC%8B%AC%ED%99%94.ipynb#W4sZmlsZQ%3D%3D?line=22'>23</a>\u001b[0m     \u001b[39mdef\u001b[39;00m \u001b[39m날기\u001b[39m(\u001b[39mself\u001b[39m):\n\u001b[1;32m     <a href='vscode-notebook-cell:/Users/daehyeon/Documents/coding_files/Boot_Camp/Ormi/python/20230919/%ED%81%B4%EB%9E%98%EC%8A%A4%20%EC%8B%AC%ED%99%94.ipynb#W4sZmlsZQ%3D%3D?line=23'>24</a>\u001b[0m         \u001b[39mpass\u001b[39;00m\n\u001b[0;32m---> <a href='vscode-notebook-cell:/Users/daehyeon/Documents/coding_files/Boot_Camp/Ormi/python/20230919/%ED%81%B4%EB%9E%98%EC%8A%A4%20%EC%8B%AC%ED%99%94.ipynb#W4sZmlsZQ%3D%3D?line=26'>27</a>\u001b[0m iron_man \u001b[39m=\u001b[39m Hero()\n\u001b[1;32m     <a href='vscode-notebook-cell:/Users/daehyeon/Documents/coding_files/Boot_Camp/Ormi/python/20230919/%ED%81%B4%EB%9E%98%EC%8A%A4%20%EC%8B%AC%ED%99%94.ipynb#W4sZmlsZQ%3D%3D?line=27'>28</a>\u001b[0m iron_man\u001b[39m.\u001b[39m숨쉬기()\n",
      "\u001b[0;31mTypeError\u001b[0m: Can't instantiate abstract class Hero with abstract methods 밥먹기, 숨쉬기"
     ]
    }
   ],
   "source": [
    "# abstract를 상속박도 @abstractmethod를 사용한다면 하위 클래스에서 반드시 @abstractmethod를 오버라이드해야한다.\n",
    "\n",
    "from abc import ABC, abstractmethod\n",
    "\n",
    "\n",
    "class Person(ABC):\n",
    "    def __init__(self) -> None:\n",
    "        pass\n",
    "\n",
    "    @abstractmethod\n",
    "    def 숨쉬기(self):\n",
    "        pass\n",
    "\n",
    "    @abstractmethod\n",
    "    def 밥먹기(self):\n",
    "        pass\n",
    "\n",
    "\n",
    "class Hero(Person):\n",
    "    def __init__(self) -> None:\n",
    "        super().__init__()\n",
    "\n",
    "    def 날기(self):\n",
    "        pass\n",
    "\n",
    "\n",
    "iron_man = Hero()\n",
    "iron_man.숨쉬기()"
   ]
  },
  {
   "cell_type": "markdown",
   "metadata": {},
   "source": [
    "## 비공개 속성\n",
    "\n",
    "비공개 속성은 파이썬에서 가능하지 않다. 하지만 비공개 속성처럼 만들수는 있다.\n"
   ]
  },
  {
   "cell_type": "code",
   "execution_count": 35,
   "metadata": {},
   "outputs": [
    {
     "data": {
      "text/plain": [
       "10"
      ]
     },
     "execution_count": 35,
     "metadata": {},
     "output_type": "execute_result"
    }
   ],
   "source": [
    "class MyClass:\n",
    "    __a = 10\n",
    "    _a = 100\n",
    "    b = 20\n",
    "\n",
    "    def __init__(self, c, d):\n",
    "        self.__c = c\n",
    "        self.d = d\n",
    "\n",
    "\n",
    "test = MyClass(10, 20)\n",
    "\n",
    "# ._클래스명__변수명으로 접근할수 있기 때문에 완전 비공개는 아니다.\n",
    "test._MyClass__c"
   ]
  }
 ],
 "metadata": {
  "kernelspec": {
   "display_name": ".venv",
   "language": "python",
   "name": "python3"
  },
  "language_info": {
   "codemirror_mode": {
    "name": "ipython",
    "version": 3
   },
   "file_extension": ".py",
   "mimetype": "text/x-python",
   "name": "python",
   "nbconvert_exporter": "python",
   "pygments_lexer": "ipython3",
   "version": "3.11.5"
  },
  "orig_nbformat": 4
 },
 "nbformat": 4,
 "nbformat_minor": 2
}
