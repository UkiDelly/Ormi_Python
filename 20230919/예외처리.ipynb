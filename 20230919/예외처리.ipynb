{
 "cells": [
  {
   "cell_type": "code",
   "execution_count": 1,
   "metadata": {},
   "outputs": [
    {
     "name": "stdout",
     "output_type": "stream",
     "text": [
      "55\n"
     ]
    }
   ],
   "source": [
    "def add_all(*args: int):\n",
    "    return sum(args)\n",
    "\n",
    "\n",
    "print(add_all(1, 2, 3, 4, 5, 6, 7, 8, 9, 10))"
   ]
  },
  {
   "cell_type": "code",
   "execution_count": 5,
   "metadata": {},
   "outputs": [
    {
     "name": "stdout",
     "output_type": "stream",
     "text": [
      "결제가 되지 않았습니다.\n",
      "끝\n"
     ]
    }
   ],
   "source": [
    "try:\n",
    "    할인율 = 0\n",
    "    치킨값 = 30000 / 할인율\n",
    "    print(\"치킨이 주문 되었습니다.\")\n",
    "except ZeroDivisionError:\n",
    "    print(\"결제가 되지 않았습니다.\")\n",
    "finally:\n",
    "    print('끝')"
   ]
  }
 ],
 "metadata": {
  "kernelspec": {
   "display_name": ".venv",
   "language": "python",
   "name": "python3"
  },
  "language_info": {
   "codemirror_mode": {
    "name": "ipython",
    "version": 3
   },
   "file_extension": ".py",
   "mimetype": "text/x-python",
   "name": "python",
   "nbconvert_exporter": "python",
   "pygments_lexer": "ipython3",
   "version": "3.11.5"
  },
  "orig_nbformat": 4
 },
 "nbformat": 4,
 "nbformat_minor": 2
}
